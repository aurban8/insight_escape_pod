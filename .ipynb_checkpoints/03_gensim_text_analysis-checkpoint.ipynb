{
 "cells": [
  {
   "cell_type": "markdown",
   "metadata": {},
   "source": [
    "> conda install -c anaconda gensim"
   ]
  },
  {
   "cell_type": "code",
   "execution_count": 1,
   "metadata": {
    "collapsed": true
   },
   "outputs": [],
   "source": [
    "import pandas as pd\n",
    "import pickle\n",
    "from gensim import corpora, models, similarities"
   ]
  },
  {
   "cell_type": "code",
   "execution_count": 2,
   "metadata": {
    "collapsed": true
   },
   "outputs": [],
   "source": [
    "escape_pod = pickle.load(open( \"escape_pod_cleaned.p\", \"rb\" ) )"
   ]
  },
  {
   "cell_type": "code",
   "execution_count": 3,
   "metadata": {},
   "outputs": [
    {
     "data": {
      "text/html": [
       "<div>\n",
       "<table border=\"1\" class=\"dataframe\">\n",
       "  <thead>\n",
       "    <tr style=\"text-align: right;\">\n",
       "      <th></th>\n",
       "      <th>title</th>\n",
       "      <th>filed_tags</th>\n",
       "      <th>num_comments</th>\n",
       "      <th>side_tags</th>\n",
       "      <th>runtime</th>\n",
       "      <th>author</th>\n",
       "      <th>narrator</th>\n",
       "      <th>host</th>\n",
       "      <th>post_type</th>\n",
       "      <th>story_list</th>\n",
       "      <th>story_string</th>\n",
       "      <th>tokens</th>\n",
       "      <th>punct_gone</th>\n",
       "      <th>word_counts</th>\n",
       "      <th>stop_gone</th>\n",
       "      <th>stem</th>\n",
       "      <th>top10</th>\n",
       "    </tr>\n",
       "  </thead>\n",
       "  <tbody>\n",
       "    <tr>\n",
       "      <th>http://escapepod.org/2005/05/12/ep001-imperial-by-jonathon-sullivan/</th>\n",
       "      <td>EP001: Imperial</td>\n",
       "      <td>[17 and Up, Podcasts]</td>\n",
       "      <td>16 comments</td>\n",
       "      <td>[bioengineering, jonathon sullivan, stephen eley]</td>\n",
       "      <td>[ 0:01 ]</td>\n",
       "      <td>None</td>\n",
       "      <td>None</td>\n",
       "      <td>None</td>\n",
       "      <td>0</td>\n",
       "      <td>[By Jonathon Sullivan\\nAll stories by Jonathon...</td>\n",
       "      <td>By Jonathon Sullivan\\nAll stories by Jonathon ...</td>\n",
       "      <td>[By, Jonathon, Sullivan, All, stories, by, Jon...</td>\n",
       "      <td>[By, Jonathon, Sullivan, All, stories, by, Jon...</td>\n",
       "      <td>82</td>\n",
       "      <td>[Jonathon, Sullivan, stories, Jonathon, Sulliv...</td>\n",
       "      <td>[jonathon, sullivan, stori, jonathon, sullivan...</td>\n",
       "      <td>[[(sullivan, 2), (stori, 2), (jonathon, 2), (s...</td>\n",
       "    </tr>\n",
       "    <tr>\n",
       "      <th>http://escapepod.org/2005/05/19/ep002-feng-burger/</th>\n",
       "      <td>EP002: Feng Burger</td>\n",
       "      <td>[10 and Up, OK for Kids, Podcasts]</td>\n",
       "      <td>6 comments</td>\n",
       "      <td>[John Aegard, stephen eley]</td>\n",
       "      <td>None</td>\n",
       "      <td>None</td>\n",
       "      <td>None</td>\n",
       "      <td>None</td>\n",
       "      <td>0</td>\n",
       "      <td>[By John Aegard\\nRead by Stephen Eley.\\nAll st...</td>\n",
       "      <td>By John Aegard\\nRead by Stephen Eley.\\nAll sto...</td>\n",
       "      <td>[By, John, Aegard, Read, by, Stephen, Eley, .,...</td>\n",
       "      <td>[By, John, Aegard, Read, by, Stephen, Eley, Al...</td>\n",
       "      <td>133</td>\n",
       "      <td>[John, Aegard, Read, Stephen, Eley, stories, J...</td>\n",
       "      <td>[john, aegard, read, stephen, eley, stori, joh...</td>\n",
       "      <td>[[(design, 3), (feng, 3), (good, 3), (shui, 3)...</td>\n",
       "    </tr>\n",
       "    <tr>\n",
       "      <th>http://escapepod.org/2005/05/26/ep003-three-wish-habit/</th>\n",
       "      <td>EP003: Three Wish Habit</td>\n",
       "      <td>[10 and Up, OK for Kids, Podcasts]</td>\n",
       "      <td>8 comments</td>\n",
       "      <td>[janni lee simner, jonathon sullivan, wishing]</td>\n",
       "      <td>None</td>\n",
       "      <td>None</td>\n",
       "      <td>None</td>\n",
       "      <td>None</td>\n",
       "      <td>0</td>\n",
       "      <td>[By Janni Lee Simner.\\nRead by Jonathon Sulliv...</td>\n",
       "      <td>By Janni Lee Simner.\\nRead by Jonathon Sulliva...</td>\n",
       "      <td>[By, Janni, Lee, Simner, ., Read, by, Jonathon...</td>\n",
       "      <td>[By, Janni, Lee, Simner, Read, by, Jonathon, S...</td>\n",
       "      <td>124</td>\n",
       "      <td>[Janni, Lee, Simner, Read, Jonathon, Sullivan,...</td>\n",
       "      <td>[janni, lee, simner, read, jonathon, sullivan,...</td>\n",
       "      <td>[[(’, 3), (sullivan, 2), (janni, 2), (stori, 2...</td>\n",
       "    </tr>\n",
       "    <tr>\n",
       "      <th>http://escapepod.org/2005/06/02/ep004-in-his-footsteps/</th>\n",
       "      <td>EP004: In His Footsteps</td>\n",
       "      <td>[10 and Up, OK for Kids, Podcasts]</td>\n",
       "      <td>8 comments</td>\n",
       "      <td>[paul martens, religion, stephen eley]</td>\n",
       "      <td>None</td>\n",
       "      <td>None</td>\n",
       "      <td>None</td>\n",
       "      <td>None</td>\n",
       "      <td>0</td>\n",
       "      <td>[By Paul E. Martens.\\nRead by Stephen Eley.\\nA...</td>\n",
       "      <td>By Paul E. Martens.\\nRead by Stephen Eley.\\nAl...</td>\n",
       "      <td>[By, Paul, E., Martens, ., Read, by, Stephen, ...</td>\n",
       "      <td>[By, Paul, E., Martens, Read, by, Stephen, Ele...</td>\n",
       "      <td>135</td>\n",
       "      <td>[Paul, E., Martens, Read, Stephen, Eley, stori...</td>\n",
       "      <td>[paul, E., marten, read, stephen, eley, stori,...</td>\n",
       "      <td>[[(’, 4), (god, 3), (paul, 2), (E., 2), (fathe...</td>\n",
       "    </tr>\n",
       "    <tr>\n",
       "      <th>http://escapepod.org/2005/06/09/ep005-snow-day/</th>\n",
       "      <td>EP005: Snow Day</td>\n",
       "      <td>[17 and Up, Podcasts]</td>\n",
       "      <td>14 comments</td>\n",
       "      <td>[deborah green, jennifer-pelland, weather]</td>\n",
       "      <td>None</td>\n",
       "      <td>None</td>\n",
       "      <td>None</td>\n",
       "      <td>None</td>\n",
       "      <td>0</td>\n",
       "      <td>[By Jennifer Pelland.\\nRead by Deborah Green.\\...</td>\n",
       "      <td>By Jennifer Pelland.\\nRead by Deborah Green.\\n...</td>\n",
       "      <td>[By, Jennifer, Pelland, ., Read, by, Deborah, ...</td>\n",
       "      <td>[By, Jennifer, Pelland, Read, by, Deborah, Gre...</td>\n",
       "      <td>84</td>\n",
       "      <td>[Jennifer, Pelland, Read, Deborah, Green, stor...</td>\n",
       "      <td>[jennif, pelland, read, deborah, green, stori,...</td>\n",
       "      <td>[[(“, 5), (”, 3), (’, 2), (pelland, 2), (would...</td>\n",
       "    </tr>\n",
       "  </tbody>\n",
       "</table>\n",
       "</div>"
      ],
      "text/plain": [
       "                                                                      title  \\\n",
       "http://escapepod.org/2005/05/12/ep001-imperial-...          EP001: Imperial   \n",
       "http://escapepod.org/2005/05/19/ep002-feng-burger/       EP002: Feng Burger   \n",
       "http://escapepod.org/2005/05/26/ep003-three-wis...  EP003: Three Wish Habit   \n",
       "http://escapepod.org/2005/06/02/ep004-in-his-fo...  EP004: In His Footsteps   \n",
       "http://escapepod.org/2005/06/09/ep005-snow-day/             EP005: Snow Day   \n",
       "\n",
       "                                                                            filed_tags  \\\n",
       "http://escapepod.org/2005/05/12/ep001-imperial-...               [17 and Up, Podcasts]   \n",
       "http://escapepod.org/2005/05/19/ep002-feng-burger/  [10 and Up, OK for Kids, Podcasts]   \n",
       "http://escapepod.org/2005/05/26/ep003-three-wis...  [10 and Up, OK for Kids, Podcasts]   \n",
       "http://escapepod.org/2005/06/02/ep004-in-his-fo...  [10 and Up, OK for Kids, Podcasts]   \n",
       "http://escapepod.org/2005/06/09/ep005-snow-day/                  [17 and Up, Podcasts]   \n",
       "\n",
       "                                                   num_comments  \\\n",
       "http://escapepod.org/2005/05/12/ep001-imperial-...  16 comments   \n",
       "http://escapepod.org/2005/05/19/ep002-feng-burger/   6 comments   \n",
       "http://escapepod.org/2005/05/26/ep003-three-wis...   8 comments   \n",
       "http://escapepod.org/2005/06/02/ep004-in-his-fo...   8 comments   \n",
       "http://escapepod.org/2005/06/09/ep005-snow-day/     14 comments   \n",
       "\n",
       "                                                                                            side_tags  \\\n",
       "http://escapepod.org/2005/05/12/ep001-imperial-...  [bioengineering, jonathon sullivan, stephen eley]   \n",
       "http://escapepod.org/2005/05/19/ep002-feng-burger/                        [John Aegard, stephen eley]   \n",
       "http://escapepod.org/2005/05/26/ep003-three-wis...     [janni lee simner, jonathon sullivan, wishing]   \n",
       "http://escapepod.org/2005/06/02/ep004-in-his-fo...             [paul martens, religion, stephen eley]   \n",
       "http://escapepod.org/2005/06/09/ep005-snow-day/            [deborah green, jennifer-pelland, weather]   \n",
       "\n",
       "                                                     runtime author narrator  \\\n",
       "http://escapepod.org/2005/05/12/ep001-imperial-...  [ 0:01 ]   None     None   \n",
       "http://escapepod.org/2005/05/19/ep002-feng-burger/      None   None     None   \n",
       "http://escapepod.org/2005/05/26/ep003-three-wis...      None   None     None   \n",
       "http://escapepod.org/2005/06/02/ep004-in-his-fo...      None   None     None   \n",
       "http://escapepod.org/2005/06/09/ep005-snow-day/         None   None     None   \n",
       "\n",
       "                                                    host post_type  \\\n",
       "http://escapepod.org/2005/05/12/ep001-imperial-...  None         0   \n",
       "http://escapepod.org/2005/05/19/ep002-feng-burger/  None         0   \n",
       "http://escapepod.org/2005/05/26/ep003-three-wis...  None         0   \n",
       "http://escapepod.org/2005/06/02/ep004-in-his-fo...  None         0   \n",
       "http://escapepod.org/2005/06/09/ep005-snow-day/     None         0   \n",
       "\n",
       "                                                                                           story_list  \\\n",
       "http://escapepod.org/2005/05/12/ep001-imperial-...  [By Jonathon Sullivan\\nAll stories by Jonathon...   \n",
       "http://escapepod.org/2005/05/19/ep002-feng-burger/  [By John Aegard\\nRead by Stephen Eley.\\nAll st...   \n",
       "http://escapepod.org/2005/05/26/ep003-three-wis...  [By Janni Lee Simner.\\nRead by Jonathon Sulliv...   \n",
       "http://escapepod.org/2005/06/02/ep004-in-his-fo...  [By Paul E. Martens.\\nRead by Stephen Eley.\\nA...   \n",
       "http://escapepod.org/2005/06/09/ep005-snow-day/     [By Jennifer Pelland.\\nRead by Deborah Green.\\...   \n",
       "\n",
       "                                                                                         story_string  \\\n",
       "http://escapepod.org/2005/05/12/ep001-imperial-...  By Jonathon Sullivan\\nAll stories by Jonathon ...   \n",
       "http://escapepod.org/2005/05/19/ep002-feng-burger/  By John Aegard\\nRead by Stephen Eley.\\nAll sto...   \n",
       "http://escapepod.org/2005/05/26/ep003-three-wis...  By Janni Lee Simner.\\nRead by Jonathon Sulliva...   \n",
       "http://escapepod.org/2005/06/02/ep004-in-his-fo...  By Paul E. Martens.\\nRead by Stephen Eley.\\nAl...   \n",
       "http://escapepod.org/2005/06/09/ep005-snow-day/     By Jennifer Pelland.\\nRead by Deborah Green.\\n...   \n",
       "\n",
       "                                                                                               tokens  \\\n",
       "http://escapepod.org/2005/05/12/ep001-imperial-...  [By, Jonathon, Sullivan, All, stories, by, Jon...   \n",
       "http://escapepod.org/2005/05/19/ep002-feng-burger/  [By, John, Aegard, Read, by, Stephen, Eley, .,...   \n",
       "http://escapepod.org/2005/05/26/ep003-three-wis...  [By, Janni, Lee, Simner, ., Read, by, Jonathon...   \n",
       "http://escapepod.org/2005/06/02/ep004-in-his-fo...  [By, Paul, E., Martens, ., Read, by, Stephen, ...   \n",
       "http://escapepod.org/2005/06/09/ep005-snow-day/     [By, Jennifer, Pelland, ., Read, by, Deborah, ...   \n",
       "\n",
       "                                                                                           punct_gone  \\\n",
       "http://escapepod.org/2005/05/12/ep001-imperial-...  [By, Jonathon, Sullivan, All, stories, by, Jon...   \n",
       "http://escapepod.org/2005/05/19/ep002-feng-burger/  [By, John, Aegard, Read, by, Stephen, Eley, Al...   \n",
       "http://escapepod.org/2005/05/26/ep003-three-wis...  [By, Janni, Lee, Simner, Read, by, Jonathon, S...   \n",
       "http://escapepod.org/2005/06/02/ep004-in-his-fo...  [By, Paul, E., Martens, Read, by, Stephen, Ele...   \n",
       "http://escapepod.org/2005/06/09/ep005-snow-day/     [By, Jennifer, Pelland, Read, by, Deborah, Gre...   \n",
       "\n",
       "                                                    word_counts  \\\n",
       "http://escapepod.org/2005/05/12/ep001-imperial-...           82   \n",
       "http://escapepod.org/2005/05/19/ep002-feng-burger/          133   \n",
       "http://escapepod.org/2005/05/26/ep003-three-wis...          124   \n",
       "http://escapepod.org/2005/06/02/ep004-in-his-fo...          135   \n",
       "http://escapepod.org/2005/06/09/ep005-snow-day/              84   \n",
       "\n",
       "                                                                                            stop_gone  \\\n",
       "http://escapepod.org/2005/05/12/ep001-imperial-...  [Jonathon, Sullivan, stories, Jonathon, Sulliv...   \n",
       "http://escapepod.org/2005/05/19/ep002-feng-burger/  [John, Aegard, Read, Stephen, Eley, stories, J...   \n",
       "http://escapepod.org/2005/05/26/ep003-three-wis...  [Janni, Lee, Simner, Read, Jonathon, Sullivan,...   \n",
       "http://escapepod.org/2005/06/02/ep004-in-his-fo...  [Paul, E., Martens, Read, Stephen, Eley, stori...   \n",
       "http://escapepod.org/2005/06/09/ep005-snow-day/     [Jennifer, Pelland, Read, Deborah, Green, stor...   \n",
       "\n",
       "                                                                                                 stem  \\\n",
       "http://escapepod.org/2005/05/12/ep001-imperial-...  [jonathon, sullivan, stori, jonathon, sullivan...   \n",
       "http://escapepod.org/2005/05/19/ep002-feng-burger/  [john, aegard, read, stephen, eley, stori, joh...   \n",
       "http://escapepod.org/2005/05/26/ep003-three-wis...  [janni, lee, simner, read, jonathon, sullivan,...   \n",
       "http://escapepod.org/2005/06/02/ep004-in-his-fo...  [paul, E., marten, read, stephen, eley, stori,...   \n",
       "http://escapepod.org/2005/06/09/ep005-snow-day/     [jennif, pelland, read, deborah, green, stori,...   \n",
       "\n",
       "                                                                                                top10  \n",
       "http://escapepod.org/2005/05/12/ep001-imperial-...  [[(sullivan, 2), (stori, 2), (jonathon, 2), (s...  \n",
       "http://escapepod.org/2005/05/19/ep002-feng-burger/  [[(design, 3), (feng, 3), (good, 3), (shui, 3)...  \n",
       "http://escapepod.org/2005/05/26/ep003-three-wis...  [[(’, 3), (sullivan, 2), (janni, 2), (stori, 2...  \n",
       "http://escapepod.org/2005/06/02/ep004-in-his-fo...  [[(’, 4), (god, 3), (paul, 2), (E., 2), (fathe...  \n",
       "http://escapepod.org/2005/06/09/ep005-snow-day/     [[(“, 5), (”, 3), (’, 2), (pelland, 2), (would...  "
      ]
     },
     "execution_count": 3,
     "metadata": {},
     "output_type": "execute_result"
    }
   ],
   "source": [
    "escape_pod.head()"
   ]
  },
  {
   "cell_type": "markdown",
   "metadata": {},
   "source": [
    "Follow tutorials here: https://radimrehurek.com/gensim/tutorial.html"
   ]
  },
  {
   "cell_type": "markdown",
   "metadata": {},
   "source": [
    "## Step 1\n",
    "https://radimrehurek.com/gensim/tut1.html"
   ]
  },
  {
   "cell_type": "code",
   "execution_count": 4,
   "metadata": {
    "collapsed": true
   },
   "outputs": [],
   "source": [
    "# Create a list containing stories. \n",
    "# Each list item is a unique story and \n",
    "# contains a list of all words in story.\n",
    "\n",
    "texts = escape_pod['stem'].tolist()"
   ]
  },
  {
   "cell_type": "code",
   "execution_count": 5,
   "metadata": {},
   "outputs": [
    {
     "name": "stdout",
     "output_type": "stream",
     "text": [
      "[u'robert', u'T.', u'jeschonek', u'read', u'josh', u'roseman', u'discuss', u'forum', u'first', u'appear', u'PS', u'showcas', u'3', u'mad', u'scientist', u'meet', u'cannib', u'stori', u'robert', u'T.']\n"
     ]
    }
   ],
   "source": [
    "print texts[300][0:20]"
   ]
  },
  {
   "cell_type": "code",
   "execution_count": 6,
   "metadata": {},
   "outputs": [],
   "source": [
    "# remove words that appear only once. (Copied from tutorial)\n",
    "from collections import defaultdict\n",
    "frequency = defaultdict(int)\n",
    "for text in texts:\n",
    "    for token in text:\n",
    "        frequency[token] += 1\n",
    "\n",
    "texts = [[token for token in text if frequency[token] > 1]\n",
    "         for text in texts]"
   ]
  },
  {
   "cell_type": "code",
   "execution_count": 7,
   "metadata": {},
   "outputs": [
    {
     "name": "stdout",
     "output_type": "stream",
     "text": [
      "[u'robert', u'T.', u'jeschonek', u'read', u'josh', u'roseman', u'discuss', u'forum', u'first', u'appear', u'showcas', u'3', u'mad', u'scientist', u'meet', u'cannib', u'stori', u'robert', u'T.', u'jeschonek']\n"
     ]
    }
   ],
   "source": [
    "print texts[300][0:20]"
   ]
  },
  {
   "cell_type": "code",
   "execution_count": 8,
   "metadata": {},
   "outputs": [],
   "source": [
    "# map between questions and id using dictionary\n",
    "# each word has unique integer id.\n",
    "dictionary = corpora.Dictionary(texts)\n",
    "dictionary.save('escape_pod.dict')  # store the dictionary, for future reference"
   ]
  },
  {
   "cell_type": "code",
   "execution_count": 9,
   "metadata": {},
   "outputs": [
    {
     "name": "stdout",
     "output_type": "stream",
     "text": [
      "Dictionary(19922 unique tokens: [u'fawn', u'circuitri', u'mustachio', u'angel.', u'galactica']...)\n"
     ]
    }
   ],
   "source": [
    "print dictionary"
   ]
  },
  {
   "cell_type": "code",
   "execution_count": 10,
   "metadata": {},
   "outputs": [
    {
     "data": {
      "text/plain": [
       "u'fawn'"
      ]
     },
     "execution_count": 10,
     "metadata": {},
     "output_type": "execute_result"
    }
   ],
   "source": [
    "dictionary[16516]"
   ]
  },
  {
   "cell_type": "code",
   "execution_count": 11,
   "metadata": {},
   "outputs": [
    {
     "name": "stdout",
     "output_type": "stream",
     "text": [
      "16516\n"
     ]
    }
   ],
   "source": [
    "# to view all dictionary keys and values\n",
    "print dictionary.token2id['fawn']"
   ]
  },
  {
   "cell_type": "code",
   "execution_count": 12,
   "metadata": {},
   "outputs": [
    {
     "name": "stdout",
     "output_type": "stream",
     "text": [
      "[(3609, 1), (4746, 1)]\n"
     ]
    }
   ],
   "source": [
    "# convert query to vector\n",
    "query_test_string = 'dinosaur hunt'\n",
    "query_test_vec = dictionary.doc2bow(query_test_string.lower().split())\n",
    "print query_test_vec"
   ]
  },
  {
   "cell_type": "code",
   "execution_count": 13,
   "metadata": {},
   "outputs": [
    {
     "name": "stdout",
     "output_type": "stream",
     "text": [
      "dinosaur\n",
      "hunt\n"
     ]
    }
   ],
   "source": [
    "print dictionary[3609]\n",
    "print dictionary[4746]"
   ]
  },
  {
   "cell_type": "code",
   "execution_count": 14,
   "metadata": {},
   "outputs": [],
   "source": [
    "# Let's vectorize our stories!!\n",
    "corpus = [dictionary.doc2bow(text) for text in texts]\n",
    "corpora.MmCorpus.serialize('escape_pod.mm', corpus) # save a copy\n",
    "# If corpus too big, then look at https://radimrehurek.com/gensim/tut1.html#corpus-streaming-one-document-at-a-time"
   ]
  },
  {
   "cell_type": "code",
   "execution_count": 15,
   "metadata": {},
   "outputs": [
    {
     "name": "stdout",
     "output_type": "stream",
     "text": [
      "[(5, 1), (6, 1), (7, 1), (16, 2), (23, 2), (40, 1), (51, 1), (53, 1), (54, 3), (69, 1), (75, 2), (85, 2), (92, 1), (102, 1), (125, 1), (129, 1), (131, 3), (144, 1), (156, 2), (173, 1), (190, 2), (221, 1), (224, 1), (256, 1), (268, 1), (271, 1), (280, 1), (292, 1), (322, 2), (355, 1), (360, 1), (405, 1), (575, 1), (579, 1), (629, 1), (681, 1), (693, 1), (742, 1), (749, 1), (775, 1), (834, 1), (853, 1), (870, 1), (1171, 1), (1172, 2), (1175, 1), (1182, 2), (1359, 1), (1361, 1), (1378, 1), (1420, 1), (1452, 1), (1456, 1), (1578, 1), (1594, 1), (1602, 1), (1633, 1), (1691, 1), (1765, 2), (1768, 1), (1776, 2), (1781, 1), (2096, 1), (2110, 1), (2134, 1), (2144, 1), (2199, 2), (2244, 1), (2257, 2), (2424, 1), (2485, 1), (2562, 1), (2587, 1), (2601, 1), (2696, 1), (2707, 1), (2806, 2), (2807, 1), (2808, 1), (2809, 2), (2810, 1), (2811, 1), (2812, 1), (2813, 1), (2814, 1), (2815, 1), (2816, 1), (2817, 1), (2818, 2), (2819, 1), (2820, 1), (2821, 1), (2822, 1), (2823, 2), (2824, 1), (2825, 1), (2826, 1), (2827, 1), (2828, 1), (2829, 1), (2830, 1), (2831, 1), (2832, 1), (2833, 1), (2834, 1)]\n"
     ]
    }
   ],
   "source": [
    "print corpus[100]"
   ]
  },
  {
   "cell_type": "markdown",
   "metadata": {},
   "source": [
    "### Topics and Transformations \n",
    "https://radimrehurek.com/gensim/tut2.html"
   ]
  },
  {
   "cell_type": "code",
   "execution_count": 19,
   "metadata": {},
   "outputs": [],
   "source": [
    "tfidf = models.TfidfModel(corpus)"
   ]
  },
  {
   "cell_type": "code",
   "execution_count": 20,
   "metadata": {},
   "outputs": [
    {
     "name": "stdout",
     "output_type": "stream",
     "text": [
      "dinosaur hunt\n",
      "[(3609, 1), (4746, 1)]\n"
     ]
    }
   ],
   "source": [
    "# convert query to vector\n",
    "print query_test_string\n",
    "query_test_vec = dictionary.doc2bow(query_test_string.lower().split())\n",
    "print query_test_vec"
   ]
  },
  {
   "cell_type": "code",
   "execution_count": 21,
   "metadata": {},
   "outputs": [
    {
     "name": "stdout",
     "output_type": "stream",
     "text": [
      "dinosaur\n",
      "mutant\n"
     ]
    }
   ],
   "source": [
    "print dictionary[3609]\n",
    "print dictionary[9810]"
   ]
  },
  {
   "cell_type": "code",
   "execution_count": 22,
   "metadata": {
    "collapsed": true
   },
   "outputs": [],
   "source": [
    "# create mapping of stories to tfidf vector space.\n",
    "corpus_tfidf = tfidf[corpus]"
   ]
  },
  {
   "cell_type": "code",
   "execution_count": 23,
   "metadata": {},
   "outputs": [
    {
     "name": "stdout",
     "output_type": "stream",
     "text": [
      "[(3609, 0.8354127151969408), (4746, 0.5496231393302824)]\n"
     ]
    }
   ],
   "source": [
    "# how frequent are query words via tf-idf\n",
    "print tfidf[query_test_vec]"
   ]
  },
  {
   "cell_type": "code",
   "execution_count": 27,
   "metadata": {},
   "outputs": [],
   "source": [
    "# map stories from tfidf space into 200 number of vectors\n",
    "lsi = models.LsiModel(corpus_tfidf, id2word=dictionary, num_topics=200)\n",
    "corpus_lsi = lsi[corpus_tfidf]"
   ]
  },
  {
   "cell_type": "code",
   "execution_count": 28,
   "metadata": {},
   "outputs": [
    {
     "data": {
      "text/plain": [
       "[(0,\n",
       "  u'0.287*\"\\u201c\" + 0.283*\"\\u201d\" + 0.125*\"said\" + 0.101*\"like\" + 0.088*\"one\" + 0.086*\"could\" + 0.085*\"back\" + 0.082*\"would\" + 0.082*\"\\u2014\" + 0.081*\"look\"'),\n",
       " (1,\n",
       "  u'-0.284*\"eley\" + -0.280*\"R.\" + -0.262*\"stephen\" + -0.207*\"derego\" + -0.206*\"jeffrey\" + -0.193*\"referenc\" + -0.182*\"profan\" + -0.170*\"site\" + -0.158*\"resnick\" + -0.145*\"mike\"'),\n",
       " (2,\n",
       "  u'0.415*\"jeffrey\" + 0.370*\"derego\" + -0.275*\"mike\" + -0.273*\"resnick\" + 0.267*\"union\" + 0.214*\"R.\" + -0.156*\"eley\" + -0.145*\"stephen\" + -0.095*\"\\u2014\" + -0.086*\"hugo\"'),\n",
       " (3,\n",
       "  u'0.395*\"mike\" + 0.377*\"resnick\" + 0.170*\"jeffrey\" + 0.143*\"derego\" + -0.121*\"site\" + 0.121*\"\\u201c\" + 0.119*\"\\u201d\" + -0.110*\"referenc\" + -0.103*\"award\" + 0.102*\"union\"'),\n",
       " (4,\n",
       "  u'-0.266*\"simak\" + -0.199*\"award\" + 0.164*\"eley\" + 0.148*\"stephen\" + -0.145*\"mike\" + -0.145*\"scienc\" + -0.136*\"hugo\" + -0.134*\"fiction\" + 0.128*\"sullivan\" + -0.126*\"jeffrey\"'),\n",
       " (5,\n",
       "  u'-0.278*\"mur\" + -0.275*\"lafferti\" + -0.190*\"ann\" + -0.175*\"jenni\" + -0.158*\"janni\" + -0.158*\"simner\" + -0.128*\"vylar\" + -0.128*\"kaftan\" + -0.118*\"Fu\" + -0.108*\"geek\"'),\n",
       " (6,\n",
       "  u'0.242*\"scott\" + -0.233*\"audible.com\" + -0.208*\"audiobook\" + -0.207*\"//audible.com/escapepodsff\" + -0.205*\"promot\" + -0.171*\"http\" + 0.167*\"sigler\" + -0.143*\"pratt\" + -0.132*\"tim\" + 0.128*\"toni\"'),\n",
       " (7,\n",
       "  u'-0.260*\"simak\" + -0.190*\"jenni\" + 0.161*\"lafferti\" + 0.159*\"mur\" + -0.146*\"\\u201c\" + -0.143*\"janni\" + -0.143*\"simner\" + -0.140*\"\\u201d\" + -0.126*\"award\" + 0.113*\"vylar\"'),\n",
       " (8,\n",
       "  u'0.190*\"adam\" + -0.180*\"sullivan\" + -0.176*\"jonathon\" + 0.170*\"scott\" + -0.164*\"bishop\" + 0.160*\"toni\" + 0.148*\"ann\" + -0.143*\"grace\" + 0.126*\"\\u201c\" + 0.125*\"\\u201d\"'),\n",
       " (9,\n",
       "  u'0.305*\"bishop\" + 0.256*\"grace\" + 0.198*\"[\" + 0.195*\"]\" + 0.146*\"jenni\" + 0.142*\"janni\" + 0.142*\"simner\" + 0.139*\"eley\" + -0.136*\"ann\" + -0.130*\"\\u2014\"'),\n",
       " (10,\n",
       "  u'-0.342*\"jenni\" + 0.260*\"bishop\" + -0.227*\"simner\" + -0.227*\"janni\" + -0.214*\"\\u2014\" + 0.211*\"grace\" + 0.167*\"[\" + 0.164*\"]\" + -0.143*\"lee\" + 0.139*\"ann\"'),\n",
       " (11,\n",
       "  u'-0.202*\"ann\" + -0.197*\"eley\" + -0.191*\"E.\" + -0.180*\"marten\" + -0.180*\"stephen\" + 0.179*\"bishop\" + -0.167*\"simak\" + -0.154*\"paul\" + 0.145*\"grace\" + 0.135*\"toni\"'),\n",
       " (12,\n",
       "  u'-0.484*\"ann\" + -0.277*\"louisa\" + -0.138*\"gilman\" + 0.137*\"\\u2014\" + 0.130*\"harri\" + -0.113*\"laura\" + -0.110*\"jenni\" + -0.096*\"janni\" + -0.096*\"simner\" + -0.093*\"jonathan\"'),\n",
       " (13,\n",
       "  u'0.301*\"toni\" + -0.235*\"\\u2014\" + -0.173*\"jenni\" + -0.172*\"bishop\" + -0.160*\"ann\" + 0.160*\"bori\" + -0.145*\"pratt\" + -0.137*\"tim\" + -0.125*\"grace\" + 0.119*\"christma\"'),\n",
       " (14,\n",
       "  u'-0.251*\"harri\" + -0.214*\"ann\" + -0.188*\"jonathon\" + -0.188*\"sullivan\" + 0.175*\"jonathan\" + 0.135*\"nanci\" + 0.110*\"coulton\" + -0.103*\"simak\" + 0.096*\"2007\" + 0.090*\"2006\"'),\n",
       " (15,\n",
       "  u'0.417*\"toni\" + 0.185*\"scott\" + 0.176*\"bori\" + 0.164*\"pratt\" + 0.148*\"tim\" + 0.140*\"\\u2014\" + -0.135*\"adam\" + -0.134*\"paul\" + 0.120*\"ann\" + -0.114*\"marten\"'),\n",
       " (16,\n",
       "  u'0.215*\"harri\" + 0.203*\"simak\" + 0.171*\"nanci\" + -0.147*\"alien\" + 0.127*\"sexual\" + 0.120*\"dora\" + -0.105*\"nomine\" + -0.101*\"hugo\" + -0.095*\"toni\" + -0.092*\"pratt\"'),\n",
       " (17,\n",
       "  u'0.192*\"pratt\" + 0.185*\"tim\" + 0.181*\"adam\" + -0.180*\"jenni\" + -0.146*\"alien\" + -0.127*\"marten\" + -0.109*\"toni\" + -0.107*\"nanci\" + 0.107*\"mom\" + 0.106*\"linda\"'),\n",
       " (18,\n",
       "  u'-0.160*\"weekli\" + -0.143*\"simak\" + -0.139*\"polyamori\" + -0.127*\"pratt\" + -0.126*\"minx\" + -0.126*\"alien\" + 0.122*\"adam\" + -0.120*\"tim\" + -0.118*\"G.\" + -0.118*\"geek\"'),\n",
       " (19,\n",
       "  u'0.177*\"harri\" + -0.150*\"simak\" + 0.133*\"dragon\" + 0.117*\"matt\" + 0.110*\"louisa\" + -0.103*\"christiana\" + 0.101*\"alien\" + 0.099*\"roger\" + -0.096*\"\\u2014\" + -0.089*\"\\u201c\"'),\n",
       " (20,\n",
       "  u'0.284*\"harri\" + -0.171*\"jenni\" + 0.165*\"\\u2014\" + 0.164*\"jonathan\" + -0.124*\"*\" + -0.097*\"alien\" + 0.097*\"hugo\" + 0.093*\"david\" + 0.093*\"bishop\" + -0.091*\"eugi\"'),\n",
       " (21,\n",
       "  u'0.172*\"simak\" + -0.138*\"deborah\" + 0.136*\"adam\" + -0.129*\"jonathan\" + -0.118*\"scott\" + -0.111*\"sexual\" + -0.110*\"jennif\" + -0.110*\"pelland\" + 0.102*\"dragon\" + -0.092*\"heather\"'),\n",
       " (22,\n",
       "  u'-0.191*\"kaftan\" + -0.191*\"vylar\" + 0.164*\"adam\" + -0.114*\"hugo\" + -0.109*\"*\" + 0.107*\"christma\" + 0.106*\"episod\" + -0.101*\"2006\" + 0.100*\"\\u2014\" + -0.100*\"nomine\"'),\n",
       " (23,\n",
       "  u'-0.189*\"harri\" + -0.179*\"vylar\" + -0.179*\"kaftan\" + 0.153*\"dad\" + 0.147*\"heather\" + 0.140*\"shaw\" + -0.132*\"jonathan\" + 0.119*\"adam\" + 0.110*\"mom\" + -0.095*\"scott\"'),\n",
       " (24,\n",
       "  u'-0.177*\"mom\" + -0.176*\"dad\" + 0.111*\"dragon\" + 0.105*\"PG\" + -0.095*\"&\" + -0.091*\"teddi\" + 0.087*\"pelland\" + -0.087*\"jonathan\" + -0.086*\"christma\" + 0.084*\"foster\"'),\n",
       " (25,\n",
       "  u'-0.173*\"adam\" + 0.140*\"william\" + -0.137*\"nanci\" + 0.135*\"roger\" + -0.129*\"linda\" + -0.113*\"sullivan\" + -0.111*\"jonathon\" + 0.102*\"narrator-\" + 0.092*\"ari\" + -0.092*\"alien\"'),\n",
       " (26,\n",
       "  u'-0.188*\"*\" + -0.188*\"jenni\" + 0.144*\"heather\" + 0.134*\"adam\" + 0.125*\"shaw\" + 0.118*\"linda\" + -0.114*\"deborah\" + 0.112*\"toni\" + 0.109*\"bori\" + -0.108*\"christma\"'),\n",
       " (27,\n",
       "  u'0.146*\"louisa\" + -0.127*\"joe\" + -0.124*\"laura\" + -0.121*\"dragon\" + 0.116*\"swirski\" + 0.116*\"rachel\" + -0.115*\"christiana\" + -0.106*\"evo\" + 0.105*\"robert\" + 0.100*\"silverberg\"'),\n",
       " (28,\n",
       "  u'0.160*\"harri\" + 0.153*\"swirski\" + 0.153*\"rachel\" + 0.140*\"nara\" + 0.130*\"roger\" + 0.109*\"papa\" + -0.104*\"louisa\" + 0.099*\"deborah\" + 0.096*\"pelland\" + 0.094*\"jennif\"'),\n",
       " (29,\n",
       "  u'0.200*\"louisa\" + 0.153*\"jonathan\" + 0.134*\"joe\" + 0.131*\"david\" + 0.130*\"*\" + 0.123*\"coulton\" + 0.106*\"nara\" + 0.097*\"brin\" + -0.096*\"deborah\" + -0.087*\"pelland\"'),\n",
       " (30,\n",
       "  u'-0.136*\"marten\" + -0.127*\"bori\" + -0.123*\"E.\" + -0.120*\"mom\" + -0.119*\"dad\" + -0.118*\"episod\" + -0.105*\"narrator-\" + 0.102*\"alien\" + -0.100*\"paul\" + -0.099*\"andrew\"'),\n",
       " (31,\n",
       "  u'-0.163*\"bori\" + -0.146*\"linda\" + -0.135*\"adam\" + 0.128*\"harri\" + 0.128*\"nara\" + -0.124*\"ari\" + 0.115*\"mrs.\" + -0.111*\"roger\" + -0.097*\"alien\" + 0.094*\"marjori\"'),\n",
       " (32,\n",
       "  u'0.163*\"linda\" + 0.163*\"adam\" + -0.134*\"heather\" + -0.116*\"shaw\" + -0.113*\"paul\" + 0.105*\"steve\" + -0.099*\"bori\" + 0.098*\"william\" + 0.091*\"award\" + -0.087*\"evo\"'),\n",
       " (33,\n",
       "  u'-0.158*\"pelland\" + -0.152*\"deborah\" + -0.151*\"jennif\" + -0.135*\"kaftan\" + -0.135*\"vylar\" + 0.134*\"narrator-\" + 0.129*\"bori\" + 0.126*\"andrew\" + 0.124*\"J.\" + -0.106*\"\\u2014\"'),\n",
       " (34,\n",
       "  u'-0.188*\"nara\" + -0.142*\"matt\" + -0.141*\"rachel\" + -0.141*\"swirski\" + 0.131*\"ari\" + 0.123*\"*\" + -0.121*\"alien\" + 0.113*\"jame\" + -0.108*\"dora\" + 0.104*\"adam\"'),\n",
       " (35,\n",
       "  u'-0.225*\"ari\" + -0.211*\"louisa\" + 0.117*\"\\u2018\" + 0.113*\"deborah\" + 0.111*\"kim\" + 0.108*\"pelland\" + -0.107*\"nanci\" + -0.104*\"nina\" + 0.102*\"linda\" + 0.098*\"X\"'),\n",
       " (36,\n",
       "  u'0.333*\"ari\" + -0.223*\"nara\" + 0.222*\"harri\" + 0.159*\"dora\" + -0.115*\"\\u2014\" + -0.114*\"roger\" + -0.097*\"bori\" + 0.092*\"bot\" + 0.092*\"nanci\" + -0.092*\"eir\"'),\n",
       " (37,\n",
       "  u'0.217*\"ari\" + 0.214*\"nara\" + 0.144*\"*\" + -0.106*\"rusch\" + 0.105*\"steve\" + 0.104*\"jenni\" + -0.102*\"kathryn\" + -0.101*\"kristin\" + -0.092*\"violenc\" + 0.091*\"\\u2014\"'),\n",
       " (38,\n",
       "  u'-0.152*\"silverberg\" + -0.152*\"eugi\" + -0.136*\"foster\" + -0.130*\"robert\" + 0.112*\"christma\" + -0.111*\"harri\" + 0.107*\"dani\" + 0.107*\"cutler\" + 0.104*\"alien\" + 0.088*\"kate\"'),\n",
       " (39,\n",
       "  u'0.167*\"swirski\" + 0.167*\"rachel\" + -0.111*\"*\" + 0.111*\"roger\" + 0.111*\"ari\" + -0.111*\"louisa\" + 0.107*\"hoot\" + 0.096*\"xnab\" + 0.088*\"dad\" + 0.084*\"mom\"'),\n",
       " (40,\n",
       "  u'-0.452*\"nara\" + -0.184*\"eir\" + 0.114*\"swirski\" + 0.114*\"rachel\" + -0.112*\"dora\" + -0.108*\"matt\" + -0.101*\"hors\" + -0.088*\"ey\" + 0.086*\"kim\" + 0.085*\"sara\"'),\n",
       " (41,\n",
       "  u'0.243*\"bori\" + 0.242*\"louisa\" + -0.144*\"nara\" + -0.102*\"episod\" + -0.080*\"scott\" + -0.078*\"monster\" + -0.077*\"bill\" + 0.075*\"septemb\" + -0.074*\"chri\" + -0.073*\"2008\"'),\n",
       " (42,\n",
       "  u'-0.245*\"louisa\" + -0.223*\"ari\" + 0.140*\"william\" + 0.132*\"matt\" + 0.120*\"kate\" + 0.114*\"dora\" + 0.112*\"dragon\" + 0.098*\"baker\" + -0.096*\"roger\" + 0.095*\"sullivan\"'),\n",
       " (43,\n",
       "  u'-0.215*\"louisa\" + 0.131*\"ari\" + -0.109*\"linda\" + 0.108*\"joe\" + -0.101*\"&\" + 0.097*\"*\" + 0.097*\"alien\" + -0.089*\"dragon\" + -0.086*\"william\" + -0.085*\"matt\"'),\n",
       " (44,\n",
       "  u'0.196*\"nara\" + 0.150*\"roger\" + 0.136*\"harri\" + -0.121*\"rachel\" + -0.121*\"swirski\" + -0.119*\"ari\" + 0.100*\"linda\" + -0.092*\"\\u2013\" + -0.088*\"joe\" + -0.086*\"silverberg\"'),\n",
       " (45,\n",
       "  u'-0.326*\"ari\" + -0.162*\"linda\" + 0.139*\"eugi\" + 0.124*\"foster\" + -0.096*\"weekli\" + 0.094*\"ship\" + 0.084*\"sci\" + -0.084*\"alex\" + 0.076*\"dani\" + 0.076*\"cutler\"'),\n",
       " (46,\n",
       "  u'-0.223*\"*\" + 0.203*\"nara\" + 0.161*\"kim\" + -0.136*\"linda\" + 0.122*\"\\u2018\" + 0.109*\"xnab\" + 0.106*\"marjori\" + 0.099*\"louisa\" + 0.094*\"ari\" + 0.090*\"jame\"'),\n",
       " (47,\n",
       "  u'0.171*\"roger\" + -0.133*\"bori\" + 0.121*\"ari\" + 0.111*\"wichita\" + -0.097*\"2007\" + 0.094*\"kate\" + 0.092*\"nara\" + 0.092*\"conni\" + 0.086*\"holland\" + -0.086*\"episod\"'),\n",
       " (48,\n",
       "  u'0.204*\"\\u2013\" + -0.180*\"william\" + -0.136*\"ari\" + -0.108*\"bori\" + 0.099*\"\\u2018\" + 0.093*\"wilson\" + 0.090*\"joe\" + 0.089*\"episod\" + 0.087*\"silverberg\" + -0.087*\"wheeler\"'),\n",
       " (49,\n",
       "  u'0.165*\"louisa\" + 0.129*\"william\" + -0.117*\"kirtley\" + 0.106*\"linda\" + 0.101*\"\\u2013\" + 0.100*\"adam\" + -0.099*\"cutler\" + -0.099*\"dani\" + -0.098*\"meg\" + 0.095*\"nara\"'),\n",
       " (50,\n",
       "  u'-0.165*\"louisa\" + 0.150*\"sara\" + -0.125*\"alien\" + -0.121*\"*\" + 0.099*\"wheeler\" + 0.092*\"kate\" + 0.092*\"\\u2013\" + -0.088*\"matt\" + -0.086*\"theme\" + -0.082*\"sullivan\"'),\n",
       " (51,\n",
       "  u'-0.178*\"dora\" + -0.113*\"matt\" + 0.096*\"cat\" + -0.090*\"jeff\" + -0.089*\"charlott\" + -0.088*\"bori\" + 0.086*\"toni\" + -0.082*\"jonathan\" + -0.081*\"episod\" + -0.079*\"reimag\"'),\n",
       " (52,\n",
       "  u'0.203*\"bori\" + 0.127*\"&\" + -0.117*\"christma\" + 0.111*\"profan\" + 0.109*\"mcintosh\" + -0.098*\"william\" + 0.097*\"\\u2018\" + -0.096*\"toni\" + -0.091*\"beta\" + -0.084*\"wheeler\"'),\n",
       " (53,\n",
       "  u'-0.195*\"sara\" + -0.181*\"kim\" + -0.163*\"\\u2018\" + -0.112*\"wheeler\" + 0.096*\"mok\" + -0.090*\"matt\" + 0.084*\"xnab\" + -0.078*\"mrs.\" + -0.075*\"william\" + 0.073*\"edward\"'),\n",
       " (54,\n",
       "  u'0.160*\"roger\" + -0.122*\"dr.\" + -0.102*\"\\u2014\" + -0.096*\"\\u2018\" + -0.089*\"kim\" + -0.089*\"alien\" + 0.087*\"yvonn\" + -0.087*\"hugo\" + -0.086*\"evo\" + -0.086*\"nara\"'),\n",
       " (55,\n",
       "  u'0.172*\"louisa\" + 0.134*\"&\" + 0.121*\"sandi\" + -0.107*\"dog\" + -0.105*\"bori\" + 0.093*\"deborah\" + 0.090*\"carter\" + 0.085*\"\\u2013\" + -0.085*\"sara\" + -0.083*\"wichita\"'),\n",
       " (56,\n",
       "  u'0.108*\"sara\" + 0.108*\"charlott\" + -0.104*\"*\" + -0.102*\"axelrod\" + -0.097*\"louisa\" + -0.097*\"jare\" + 0.095*\"paul\" + -0.095*\"linda\" + 0.094*\"\\u2013\" + -0.094*\"moon\"'),\n",
       " (57,\n",
       "  u'-0.135*\"jani\" + -0.118*\"\\u2018\" + -0.097*\"kim\" + 0.095*\"2008\" + -0.092*\"teddi\" + 0.090*\"anderson\" + 0.089*\"mrs.\" + -0.085*\"stephani\" + -0.084*\"wheeler\" + 0.080*\"moon\"'),\n",
       " (58,\n",
       "  u'0.233*\"dora\" + -0.134*\"linda\" + -0.123*\"kate\" + -0.118*\"mrs.\" + -0.117*\"kirtley\" + 0.107*\"\\u2014\" + 0.107*\"reimag\" + -0.101*\"baker\" + -0.095*\"harri\" + 0.093*\"nanci\"'),\n",
       " (59,\n",
       "  u'-0.153*\"moon\" + 0.141*\"mrs.\" + 0.126*\"teddi\" + -0.118*\"toni\" + 0.110*\"jani\" + 0.106*\"linda\" + 0.093*\"bori\" + 0.092*\"whitman\" + 0.086*\"dora\" + 0.085*\"cat\"'),\n",
       " (60,\n",
       "  u'-0.166*\"kara\" + 0.153*\"jenni\" + 0.123*\"&\" + 0.106*\"mrs.\" + -0.100*\"dr.\" + -0.090*\"nina\" + -0.082*\"dad\" + -0.081*\"christiana\" + 0.081*\"whitman\" + -0.081*\"doctor\"'),\n",
       " (61,\n",
       "  u'0.159*\"sara\" + 0.126*\"xnab\" + 0.114*\"marjori\" + 0.105*\"jeff\" + -0.096*\"charlott\" + -0.091*\"mrs.\" + -0.089*\"jani\" + -0.085*\"edward\" + -0.081*\"chri\" + 0.079*\"wheeler\"'),\n",
       " (62,\n",
       "  u'-0.115*\"wichita\" + -0.108*\"roger\" + -0.105*\"heather\" + -0.105*\"joey\" + -0.095*\"meg\" + -0.095*\"shaw\" + -0.087*\"conni\" + 0.084*\"bori\" + -0.084*\"nano\" + 0.082*\"jani\"'),\n",
       " (63,\n",
       "  u'-0.120*\"jenni\" + 0.111*\"bori\" + -0.097*\"andrew\" + 0.094*\"*\" + -0.093*\"stephani\" + -0.091*\"jani\" + 0.089*\"kim\" + 0.089*\"dora\" + 0.088*\"\\u2018\" + 0.086*\"harri\"'),\n",
       " (64,\n",
       "  u'-0.209*\"mok\" + 0.148*\"dora\" + 0.104*\"charlott\" + -0.096*\"jeann\" + -0.089*\"podcheck\" + 0.084*\"nessa\" + -0.084*\"\\u2018\" + -0.074*\"dr.\" + -0.073*\"liam\" + -0.072*\"review\"'),\n",
       " (65,\n",
       "  u'0.136*\"jenni\" + -0.132*\"john\" + 0.130*\"mok\" + -0.122*\"molli\" + -0.119*\"kara\" + 0.119*\"sara\" + 0.107*\"louisa\" + 0.104*\"mcintosh\" + 0.088*\"hoot\" + 0.086*\"kay\"'),\n",
       " (66,\n",
       "  u'-0.131*\"&\" + -0.099*\"christma\" + 0.092*\"jonathan\" + 0.084*\"sara\" + -0.083*\"monti\" + 0.082*\"xnab\" + -0.079*\"[\" + -0.079*\"charlott\" + -0.078*\"]\" + -0.077*\"weller\"'),\n",
       " (67,\n",
       "  u'0.128*\"husband\" + -0.125*\"edward\" + 0.113*\"&\" + 0.096*\"bori\" + 0.096*\"*\" + 0.092*\"ghost\" + -0.090*\"dora\" + 0.082*\"john\" + 0.079*\"manti\" + -0.077*\"wilson\"'),\n",
       " (68,\n",
       "  u'0.192*\"teddi\" + 0.130*\"joey\" + 0.123*\"mel\" + -0.109*\"jenni\" + -0.106*\"dr.\" + 0.096*\"kara\" + -0.092*\"jonathan\" + 0.090*\"2007\" + -0.084*\"william\" + 0.081*\"cummerbund\"'),\n",
       " (69,\n",
       "  u'0.110*\"sara\" + 0.104*\"matt\" + -0.085*\"linda\" + 0.083*\"edward\" + -0.082*\"marla\" + -0.081*\"dora\" + 0.081*\"soup\" + 0.078*\"teddi\" + -0.077*\"mok\" + -0.076*\"silverberg\"'),\n",
       " (70,\n",
       "  u'0.129*\"matt\" + 0.094*\"joey\" + -0.092*\"ex-702\" + 0.088*\"bori\" + 0.088*\"grace\" + -0.080*\"john\" + -0.080*\"chu\" + 0.077*\"mari\" + 0.076*\"luci\" + -0.076*\"arti\"'),\n",
       " (71,\n",
       "  u'0.144*\"mok\" + 0.143*\"dora\" + 0.115*\"larri\" + -0.101*\"matt\" + -0.097*\"trial\" + 0.093*\"edward\" + 0.090*\"beta\" + 0.088*\"brin\" + -0.087*\"kirtley\" + 0.086*\"children\"'),\n",
       " (72,\n",
       "  u'0.144*\"mok\" + -0.118*\"sara\" + -0.105*\"edward\" + 0.099*\"kim\" + -0.091*\"apocalyps\" + 0.083*\"larri\" + -0.083*\"jonathan\" + -0.079*\"xnab\" + 0.076*\"joey\" + 0.076*\"headi\"'),\n",
       " (73,\n",
       "  u'0.125*\"oracl\" + -0.105*\"joe\" + -0.100*\"beta\" + -0.091*\"teddi\" + -0.085*\"luci\" + -0.082*\"matthia\" + 0.080*\"charlott\" + -0.079*\"may\" + 0.077*\"john\" + -0.077*\"sara\"'),\n",
       " (74,\n",
       "  u'-0.139*\"sara\" + -0.099*\"roger\" + 0.095*\"edward\" + 0.092*\"oracl\" + -0.088*\"jani\" + 0.084*\"lauren\" + -0.082*\"molli\" + 0.079*\"teddi\" + -0.078*\"wichita\" + 0.077*\"bori\"'),\n",
       " (75,\n",
       "  u'-0.121*\"membership\" + -0.114*\"linda\" + -0.113*\"trial\" + 0.108*\"sara\" + 0.103*\"dr.\" + -0.100*\"larri\" + -0.091*\"luci\" + -0.090*\"tidhar\" + -0.090*\"lavi\" + -0.087*\"andrew\"'),\n",
       " (76,\n",
       "  u'-0.155*\"mok\" + 0.099*\"matt\" + 0.092*\"poetri\" + -0.090*\"yorick\" + 0.090*\"jenni\" + -0.090*\"2007\" + 0.086*\"amanda\" + -0.085*\"sara\" + 0.084*\"gmail.com\" + 0.082*\"ching\"'),\n",
       " (77,\n",
       "  u'-0.121*\"dora\" + -0.115*\"sara\" + -0.091*\"paul\" + -0.084*\"monti\" + 0.083*\"monkey\" + -0.083*\"marilyn\" + 0.081*\"richard\" + -0.079*\"dog\" + 0.079*\"espresso\" + -0.076*\"mcintosh\"'),\n",
       " (78,\n",
       "  u'-0.159*\"luci\" + 0.112*\"edward\" + 0.107*\"andi\" + 0.106*\"sara\" + -0.100*\"bohr\" + 0.098*\"moon\" + 0.087*\"podcheck\" + -0.082*\"william\" + 0.072*\"andrew\" + -0.068*\"papa\"'),\n",
       " (79,\n",
       "  u'-0.106*\"linda\" + 0.100*\"teddi\" + -0.097*\"spire\" + 0.091*\"&\" + 0.087*\"dr.\" + -0.082*\"matt\" + -0.081*\"girl\" + 0.081*\"meg\" + -0.080*\"sandi\" + -0.076*\"dora\"'),\n",
       " (80,\n",
       "  u'0.229*\"mok\" + 0.127*\"dora\" + 0.108*\"kara\" + -0.105*\"luci\" + 0.102*\"&\" + -0.097*\"mrs.\" + 0.087*\"jeann\" + -0.079*\"kim\" + -0.078*\"whitman\" + 0.078*\"kirtley\"'),\n",
       " (81,\n",
       "  u'-0.139*\"mok\" + -0.126*\"matt\" + 0.117*\"jeff\" + -0.108*\"teddi\" + 0.082*\"moon\" + 0.079*\"jack\" + -0.077*\"anderson\" + 0.074*\"luci\" + -0.073*\"jian\" + -0.070*\"doctor\"'),\n",
       " (82,\n",
       "  u'-0.182*\"mok\" + -0.108*\"jani\" + 0.088*\"mcintosh\" + -0.086*\"moon\" + -0.084*\"charlott\" + 0.084*\"G.\" + -0.083*\"marilyn\" + 0.082*\"wichita\" + -0.080*\"mrs.\" + -0.079*\"apocalyps\"'),\n",
       " (83,\n",
       "  u'0.145*\"edward\" + 0.133*\"thargu\" + 0.114*\"moon\" + -0.112*\"mok\" + -0.107*\"episod\" + 0.097*\"miller\" + 0.085*\"teddi\" + 0.084*\"chri\" + 0.081*\"alic\" + -0.078*\"link\"'),\n",
       " (84,\n",
       "  u'-0.158*\"jeff\" + 0.111*\"sandi\" + -0.103*\"edward\" + 0.102*\"luci\" + -0.098*\"linda\" + 0.094*\"mcintosh\" + 0.089*\"mok\" + -0.085*\"doctor\" + -0.075*\"richard\" + -0.075*\"abbi\"'),\n",
       " (85,\n",
       "  u'0.133*\"sara\" + -0.110*\"mrs.\" + -0.097*\"dr.\" + -0.093*\"hurley\" + -0.090*\"kirtley\" + -0.088*\"marilyn\" + -0.088*\"whitman\" + 0.085*\"linda\" + 0.084*\"\\u2018\" + -0.083*\"medici\"'),\n",
       " (86,\n",
       "  u'-0.119*\"luci\" + -0.116*\"beta\" + -0.090*\"dog\" + 0.089*\"mok\" + 0.086*\"husband\" + 0.085*\"angel\" + 0.084*\"yvonn\" + -0.082*\"charlott\" + 0.076*\"chantal\" + -0.075*\"nessa\"'),\n",
       " (87,\n",
       "  u'0.100*\"mcintosh\" + -0.082*\"dora\" + -0.082*\"marcu\" + 0.081*\"moon\" + -0.080*\"mok\" + 0.078*\"mia\" + -0.077*\"william\" + 0.077*\"yvonn\" + 0.077*\"edward\" + 0.075*\"kirtley\"'),\n",
       " (88,\n",
       "  u'0.142*\"sara\" + -0.136*\"oracl\" + -0.110*\"brindi\" + 0.099*\"mariska\" + 0.097*\"monkey\" + 0.095*\"kij\" + -0.086*\"wichita\" + 0.085*\"johnson\" + 0.082*\"kirtley\" + 0.081*\"bathtub\"'),\n",
       " (89,\n",
       "  u'0.102*\"mok\" + -0.091*\"R\" + -0.088*\"chu\" + -0.088*\"paulo\" + 0.085*\"william\" + -0.083*\"2008\" + -0.080*\"lolo\" + -0.078*\"warlord\" + 0.076*\"moon\" + 0.076*\"scroog\"'),\n",
       " (90,\n",
       "  u'0.177*\"monti\" + 0.123*\"matt\" + 0.120*\"grinder\" + 0.090*\"morgan\" + -0.083*\"dog\" + -0.078*\"trial\" + -0.074*\"membership\" + 0.073*\"kate\" + 0.071*\"lolo\" + -0.071*\"gia\"'),\n",
       " (91,\n",
       "  u'0.105*\"mcintosh\" + -0.100*\"mok\" + -0.094*\"luci\" + -0.082*\"angel\" + 0.079*\"milo\" + -0.078*\"wheeler\" + 0.077*\"monti\" + 0.077*\"rambo\" + -0.076*\"mrs.\" + -0.075*\"elain\"'),\n",
       " (92,\n",
       "  u'0.135*\"teddi\" + -0.118*\"oracl\" + -0.108*\"mik\" + 0.107*\"matt\" + -0.099*\"arti\" + -0.081*\"molli\" + -0.080*\"sivvi\" + -0.075*\"becca\" + -0.075*\"bishop\" + 0.074*\"episod\"'),\n",
       " (93,\n",
       "  u'0.094*\"explicit\" + 0.092*\"shimako\" + 0.092*\"hiroshi\" + 0.087*\"william\" + 0.085*\"molli\" + -0.082*\"marna\" + -0.080*\"sister\" + 0.079*\"girl\" + -0.078*\"dora\" + 0.077*\"cat\"'),\n",
       " (94,\n",
       "  u'-0.144*\"luci\" + -0.106*\"matt\" + 0.105*\"oracl\" + -0.094*\"apocalyps\" + 0.094*\"kij\" + 0.089*\"monkey\" + 0.087*\"elia\" + -0.087*\"otto\" + 0.085*\"dora\" + 0.084*\"johnson\"'),\n",
       " (95,\n",
       "  u'0.160*\"sara\" + 0.104*\"elain\" + 0.084*\"teddi\" + -0.076*\"jensen\" + -0.073*\"moon\" + 0.073*\"captain\" + -0.072*\"explicit\" + 0.071*\"bohr\" + -0.071*\"mari\" + 0.066*\"dora\"'),\n",
       " (96,\n",
       "  u'0.135*\"sandi\" + 0.132*\"yorick\" + 0.103*\"baen\" + -0.090*\"moon\" + -0.090*\"anderson\" + -0.080*\"cassi\" + -0.079*\"episod\" + 0.077*\"marilyn\" + 0.074*\"boar\" + 0.073*\"jim\"'),\n",
       " (97,\n",
       "  u'0.148*\"linda\" + 0.135*\"matt\" + 0.114*\"oracl\" + 0.080*\"sara\" + -0.076*\"jensen\" + -0.074*\"wasp\" + -0.074*\"nile\" + -0.074*\"arti\" + -0.072*\"hive\" + -0.072*\"headi\"'),\n",
       " (98,\n",
       "  u'0.101*\"teddi\" + 0.101*\"molli\" + -0.094*\"roger\" + -0.092*\"union\" + 0.080*\"debutant\" + 0.078*\"paulo\" + -0.073*\"faji\" + -0.073*\"jeff\" + 0.072*\"monti\" + -0.069*\"schole\"'),\n",
       " (99,\n",
       "  u'-0.110*\"sandi\" + -0.103*\"jeff\" + -0.083*\"tom\" + -0.083*\"episod\" + -0.080*\"yorick\" + -0.080*\"kim\" + -0.074*\"link\" + 0.073*\"charlott\" + 0.073*\"elain\" + 0.072*\"apocalyps\"'),\n",
       " (100,\n",
       "  u'0.106*\"dora\" + -0.101*\"mia\" + -0.091*\"charlott\" + -0.085*\"dog\" + -0.081*\"meg\" + 0.080*\"mok\" + -0.077*\"captain\" + 0.077*\"mel\" + -0.076*\"sandi\" + -0.076*\"tyler\"'),\n",
       " (101,\n",
       "  u'-0.090*\"kara\" + 0.089*\"riley\" + -0.087*\"jeff\" + 0.079*\"becca\" + 0.079*\"robot\" + 0.079*\"sara\" + -0.077*\"budo\" + 0.071*\"sam\" + 0.069*\"abside\" + 0.068*\"mel\"'),\n",
       " (102,\n",
       "  u'0.110*\"linda\" + -0.098*\"jenni\" + 0.096*\"luci\" + -0.085*\"spire\" + 0.078*\"otto\" + 0.078*\"simul\" + 0.077*\"matthia\" + 0.071*\"doz\" + 0.071*\"2007\" + -0.070*\"kara\"'),\n",
       " (103,\n",
       "  u'0.150*\"sandi\" + 0.133*\"yorick\" + 0.100*\"yvonn\" + -0.094*\"marna\" + -0.085*\"jensen\" + 0.084*\"alic\" + -0.080*\"spire\" + 0.075*\"boar\" + 0.074*\"tom\" + -0.074*\"jay\"'),\n",
       " (104,\n",
       "  u'0.155*\"arti\" + 0.109*\"mik\" + 0.095*\"nile\" + -0.094*\"molli\" + -0.080*\"debutant\" + -0.077*\"jian\" + -0.075*\"elain\" + -0.075*\"jeff\" + 0.072*\"oracl\" + -0.070*\"edward\"'),\n",
       " (105,\n",
       "  u'0.155*\"jeff\" + -0.102*\"wheeler\" + 0.094*\"otto\" + -0.091*\"yvonn\" + -0.085*\"pod\" + -0.084*\"kirtley\" + -0.081*\"alic\" + -0.081*\"oracl\" + -0.080*\"carter\" + 0.073*\"william\"'),\n",
       " (106,\n",
       "  u'-0.104*\"jessica\" + 0.099*\"nessa\" + 0.093*\"charlott\" + 0.091*\"wasp\" + -0.087*\"oracl\" + -0.085*\"_\" + 0.081*\"jensen\" + 0.081*\"\\u201a\\xe4\\xec\" + -0.080*\"susan\" + -0.077*\"lori\"'),\n",
       " (107,\n",
       "  u'-0.134*\"arti\" + -0.112*\"xnab\" + -0.108*\"mik\" + -0.097*\"monti\" + 0.094*\"faji\" + -0.087*\"sir\" + -0.085*\"amira\" + 0.084*\"rebecca\" + -0.082*\"nile\" + 0.081*\"union\"'),\n",
       " (108,\n",
       "  u'-0.137*\"thargu\" + 0.107*\"teddi\" + 0.101*\"oracl\" + 0.097*\"marla\" + 0.087*\"linda\" + -0.079*\"miller\" + -0.078*\"jeff\" + 0.076*\"wossnam\" + -0.076*\"mom\" + -0.075*\"chri\"'),\n",
       " (109,\n",
       "  u'-0.115*\"matt\" + -0.112*\"ester\" + 0.088*\"matthia\" + -0.086*\"papa\" + -0.083*\"becca\" + -0.081*\"charlen\" + -0.080*\"mel\" + -0.077*\"marla\" + 0.075*\"spire\" + -0.071*\"patchwork\"'),\n",
       " (110,\n",
       "  u'0.141*\"kirtley\" + 0.089*\"yvonn\" + -0.084*\"linda\" + -0.078*\"rebecca\" + 0.074*\"beta\" + -0.074*\"cratchit\" + 0.072*\"ex-702\" + -0.069*\"pumpkin\" + -0.068*\"oracl\" + 0.065*\"thargu\"'),\n",
       " (111,\n",
       "  u'-0.100*\"elain\" + -0.100*\"marla\" + 0.098*\"travel\" + 0.097*\"jarrett\" + -0.091*\"zinhl\" + -0.090*\"jessica\" + 0.083*\"kathleen\" + 0.083*\"jami\" + 0.080*\"maxon\" + -0.078*\"marilyn\"'),\n",
       " (112,\n",
       "  u'0.126*\"jeff\" + -0.101*\"oracl\" + -0.092*\"warlord\" + -0.080*\"joey\" + 0.080*\"mimi\" + 0.076*\"beta\" + -0.072*\"myra\" + -0.070*\"cassi\" + -0.066*\"knitwitch\" + -0.066*\"titan\"'),\n",
       " (113,\n",
       "  u'-0.150*\"sandi\" + -0.126*\"yorick\" + -0.095*\"paprika\" + -0.084*\"monti\" + -0.081*\"ship\" + -0.071*\"eileen\" + -0.071*\"boar\" + 0.070*\"nick\" + -0.068*\"tarr\" + -0.068*\"judith\"'),\n",
       " (114,\n",
       "  u'0.128*\"xnab\" + -0.103*\"luci\" + -0.099*\"bohr\" + 0.097*\"princ\" + 0.097*\"budo\" + 0.096*\"bluebel\" + 0.095*\"ume\" + 0.088*\"kirtley\" + 0.077*\"victor\" + -0.076*\"kathleen\"'),\n",
       " (115,\n",
       "  u'-0.119*\"meg\" + -0.096*\"dog\" + 0.081*\"sra\" + -0.081*\"spire\" + 0.080*\"kim\" + 0.079*\"yorick\" + 0.077*\"walton\" + 0.073*\"elia\" + 0.073*\"luci\" + 0.069*\"nessa\"'),\n",
       " (116,\n",
       "  u'-0.130*\"headi\" + -0.128*\"sandi\" + -0.124*\"yorick\" + 0.099*\"priya\" + -0.090*\"mel\" + -0.084*\"kaipo\" + -0.078*\"becca\" + -0.078*\"mok\" + -0.074*\"larri\" + 0.072*\"sergio\"'),\n",
       " (117,\n",
       "  u'-0.080*\"becca\" + 0.075*\"cratchit\" + -0.072*\"yvonn\" + 0.070*\"headi\" + -0.069*\"charlott\" + -0.069*\"robot\" + -0.069*\"abbi\" + 0.068*\"geo\" + 0.066*\"csorian\" + -0.066*\"teddi\"'),\n",
       " (118,\n",
       "  u'0.131*\"otto\" + -0.105*\"jeff\" + -0.104*\"becca\" + -0.092*\"mel\" + -0.086*\"sheryl\" + 0.079*\"darbi\" + -0.078*\"yoshi\" + 0.078*\"apocalyps\" + 0.074*\"abbi\" + 0.072*\"doz\"'),\n",
       " (119,\n",
       "  u'0.097*\"dog\" + 0.087*\"meg\" + 0.087*\"pid\" + 0.085*\"rebecca\" + -0.083*\"chrysanthemum\" + -0.082*\"otto\" + -0.077*\"nessa\" + -0.074*\"herk\" + 0.073*\"ali\" + 0.072*\"micah\"'),\n",
       " (120,\n",
       "  u'0.083*\"amira\" + 0.080*\"marcu\" + 0.079*\"monti\" + 0.077*\"kay\" + 0.077*\"union\" + 0.077*\"oracl\" + -0.074*\"whitman\" + -0.073*\"mrs.\" + 0.072*\"friesner\" + 0.072*\"arti\"'),\n",
       " (121,\n",
       "  u'0.110*\"monti\" + -0.080*\"carmela\" + 0.080*\"god\" + 0.075*\"|\" + 0.074*\"kirtley\" + 0.074*\"grinder\" + 0.073*\"2007\" + 0.068*\"R\" + 0.068*\"cratchit\" + 0.067*\"trixi\"'),\n",
       " (122,\n",
       "  u'0.117*\"sra\" + -0.098*\"luci\" + -0.087*\"yakova\" + -0.083*\"clarissa\" + 0.082*\"eduardo\" + -0.082*\"eileen\" + 0.073*\"wheeler\" + -0.072*\"pumpkin\" + 0.072*\"maria\" + 0.071*\"trial\"'),\n",
       " (123,\n",
       "  u'0.105*\"otto\" + 0.099*\"oracl\" + 0.088*\"holland\" + 0.085*\"littleston\" + -0.084*\"yvonn\" + 0.083*\"wheeler\" + -0.079*\"anya\" + -0.071*\"eileen\" + 0.071*\"elis\" + -0.069*\"\\u2013\"'),\n",
       " (124,\n",
       "  u'0.102*\"sebastian\" + -0.090*\"jian\" + 0.077*\"linnea\" + -0.076*\"|\" + 0.074*\"paprika\" + -0.071*\"apocalyps\" + 0.069*\"tyler\" + -0.067*\"marna\" + -0.066*\"totyoal\" + 0.065*\"elia\"'),\n",
       " (125,\n",
       "  u'0.132*\"oracl\" + 0.104*\"geo\" + -0.098*\"bosch\" + 0.097*\"elain\" + 0.083*\"sergio\" + 0.081*\"kaj\" + -0.075*\"ume\" + -0.075*\"davi\" + 0.075*\"grete\" + -0.074*\"princ\"'),\n",
       " (126,\n",
       "  u'0.086*\"tau\" + -0.086*\"marla\" + 0.086*\"sandi\" + 0.084*\"kev\" + -0.083*\"warlord\" + 0.082*\"eileen\" + -0.082*\"cratchit\" + 0.080*\"|\" + -0.078*\"apocalyps\" + -0.071*\"luka\"'),\n",
       " (127,\n",
       "  u'-0.148*\"geo\" + 0.127*\"bosch\" + 0.102*\"elain\" + 0.097*\"|\" + 0.097*\"larri\" + 0.092*\"bohr\" + 0.083*\"godmoth\" + 0.076*\"otto\" + 0.073*\"nicol\" + -0.073*\"adam\"'),\n",
       " (128,\n",
       "  u'0.103*\"quy\" + 0.093*\"einstein\" + 0.092*\"budo\" + -0.088*\"twice-cook\" + -0.081*\"jami\" + -0.079*\"pork\" + 0.077*\"abbi\" + -0.076*\"oracl\" + 0.074*\"bosch\" + 0.070*\"elizabeth\"'),\n",
       " (129,\n",
       "  u'0.122*\"arti\" + 0.108*\"whitman\" + 0.101*\"mik\" + -0.095*\"parda\" + 0.089*\"ex-702\" + -0.088*\"oracl\" + 0.087*\"njeri\" + -0.083*\"linda\" + 0.083*\"otto\" + -0.080*\"geo\"'),\n",
       " (130,\n",
       "  u'-0.107*\"kirtley\" + 0.100*\"dog\" + 0.088*\"meg\" + 0.086*\"nessa\" + -0.084*\"warlord\" + -0.080*\"gia\" + 0.077*\"charlott\" + -0.071*\"becca\" + -0.068*\"kev\" + -0.068*\"titan\"'),\n",
       " (131,\n",
       "  u'0.104*\"thad\" + 0.091*\"bluebel\" + 0.088*\"bokeerk\" + -0.081*\"ali\" + 0.074*\"headi\" + -0.073*\"eileen\" + -0.071*\"ume\" + -0.065*\"stu\" + 0.065*\"imageri\" + -0.065*\"cratchit\"'),\n",
       " (132,\n",
       "  u'0.124*\"jian\" + 0.105*\"cassi\" + -0.091*\"marla\" + -0.088*\"lori\" + 0.087*\"parda\" + -0.087*\"nessa\" + 0.086*\"oracl\" + -0.081*\"hive\" + 0.079*\"apocalyps\" + -0.079*\"augi\"'),\n",
       " (133,\n",
       "  u'-0.087*\"eztli\" + -0.082*\"bosch\" + 0.081*\"bluebel\" + 0.081*\"yorick\" + -0.080*\"krenn\" + -0.078*\"toxin\" + -0.076*\"annda\" + -0.076*\"geo\" + -0.075*\"ex-702\" + -0.074*\"apurna\"'),\n",
       " (134,\n",
       "  u'0.106*\"headi\" + 0.094*\"ume\" + 0.088*\"bosch\" + 0.084*\"pid\" + -0.082*\"cassi\" + -0.081*\"treya\" + -0.075*\"baen\" + -0.074*\"catat\" + -0.074*\"trixi\" + 0.071*\"jessica\"'),\n",
       " (135,\n",
       "  u'-0.105*\"kaj\" + -0.097*\"grete\" + -0.089*\"lolo\" + 0.086*\"otto\" + -0.085*\"mok\" + 0.081*\"sra\" + -0.079*\"fortuni\" + -0.076*\"sash\" + 0.071*\"pearl\" + -0.068*\"union\"'),\n",
       " (136,\n",
       "  u'-0.096*\"ume\" + 0.094*\"trixi\" + 0.084*\"kathleen\" + 0.083*\"milo\" + -0.081*\"headi\" + 0.076*\"godmoth\" + -0.075*\"quy\" + -0.074*\"charlen\" + -0.074*\"cassi\" + -0.071*\"treya\"'),\n",
       " (137,\n",
       "  u'0.130*\"jensen\" + 0.107*\"otto\" + -0.103*\"cyru\" + -0.094*\"catat\" + 0.091*\"mick\" + 0.087*\"johnni\" + 0.075*\"yakova\" + 0.074*\"doz\" + -0.073*\"vincent\" + -0.072*\"thargu\"'),\n",
       " (138,\n",
       "  u'0.146*\"chrysanthemum\" + -0.105*\"nozizw\" + -0.101*\"amira\" + -0.099*\"almahdi\" + -0.090*\"irdl\" + 0.088*\"elain\" + -0.086*\"headi\" + -0.083*\"damo\" + 0.076*\"jeff\" + 0.074*\"littleston\"'),\n",
       " (139,\n",
       "  u'0.111*\"bosch\" + 0.096*\"jensen\" + -0.081*\"riley\" + 0.080*\"oracl\" + -0.079*\"parda\" + 0.078*\"barnabi\" + -0.077*\"nohail\" + 0.076*\"kathleen\" + -0.073*\"quy\" + 0.071*\"sra\"'),\n",
       " (140,\n",
       "  u'-0.122*\"lolo\" + -0.091*\"otto\" + 0.089*\"cratchit\" + 0.087*\"nerissa\" + -0.085*\"nessa\" + -0.084*\"delroy\" + -0.081*\"bluebel\" + 0.076*\"sebastian\" + 0.075*\"nanle\" + -0.075*\"damo\"'),\n",
       " (141,\n",
       "  u'-0.112*\"apurna\" + 0.109*\"headi\" + -0.104*\"yakova\" + -0.088*\"gia\" + 0.087*\"bria\" + -0.084*\"marna\" + 0.083*\"fredrick\" + -0.076*\"paulo\" + 0.073*\"eileen\" + -0.071*\"hurley\"'),\n",
       " (142,\n",
       "  u'0.110*\"ex-702\" + -0.104*\"yakova\" + 0.098*\"godmoth\" + -0.097*\"maxon\" + -0.091*\"|\" + -0.087*\"elain\" + 0.086*\"oracl\" + 0.085*\"leonardo\" + 0.083*\"kirtley\" + 0.082*\"chrysanthemum\"'),\n",
       " (143,\n",
       "  u'-0.110*\"sergio\" + 0.110*\"|\" + -0.106*\"elia\" + 0.096*\"chrysanthemum\" + -0.093*\"princ\" + -0.091*\"rebecca\" + 0.089*\"nessa\" + 0.081*\"trixi\" + -0.080*\"otto\" + -0.078*\"nathaniel\"'),\n",
       " (144,\n",
       "  u'-0.126*\"fortuni\" + -0.094*\"kurt\" + 0.090*\"bluebel\" + -0.087*\"alejandro\" + -0.087*\"evi\" + 0.086*\"delroy\" + -0.085*\"bohr\" + 0.084*\"spire\" + -0.084*\"jian\" + -0.082*\"warley\"'),\n",
       " (145,\n",
       "  u'-0.111*\"kirtley\" + 0.109*\"jensen\" + -0.105*\"geo\" + 0.105*\"mia\" + 0.102*\"oracl\" + 0.092*\"paprika\" + 0.088*\"parda\" + 0.079*\"irdl\" + 0.075*\"quy\" + 0.068*\"esefeb\"'),\n",
       " (146,\n",
       "  u'-0.163*\"elain\" + 0.123*\"paulo\" + 0.093*\"irdl\" + -0.086*\"otto\" + -0.086*\"paprika\" + -0.086*\"kurt\" + 0.086*\"chu\" + -0.081*\"becca\" + 0.081*\"geo\" + -0.077*\"carmela\"'),\n",
       " (147,\n",
       "  u'0.124*\"otto\" + 0.115*\"denni\" + 0.115*\"twice-cook\" + -0.113*\"littleston\" + 0.102*\"pork\" + 0.082*\"darbi\" + 0.081*\"krenn\" + -0.078*\"yakova\" + 0.077*\"suki\" + -0.077*\"arti\"'),\n",
       " (148,\n",
       "  u'-0.155*\"carmela\" + -0.102*\"treya\" + -0.094*\"littleston\" + 0.089*\"nathaniel\" + 0.089*\"becca\" + -0.085*\"evi\" + -0.085*\"alejandro\" + -0.084*\"denni\" + -0.082*\"catat\" + -0.082*\"rebecca\"'),\n",
       " (149,\n",
       "  u'0.103*\"bosch\" + -0.097*\"greta\" + -0.095*\"tyler\" + -0.094*\"emlun\" + 0.089*\"|\" + 0.088*\"riley\" + -0.088*\"titan\" + 0.084*\"papa\" + -0.084*\"jamal\" + 0.084*\"pixi\"'),\n",
       " (150,\n",
       "  u'-0.093*\"pid\" + -0.091*\"krenn\" + -0.088*\"elain\" + 0.081*\"saito\" + 0.077*\"cratchit\" + 0.077*\"kentaro\" + 0.075*\"employ\" + -0.075*\"angel\" + 0.074*\"etan\" + 0.072*\"bria\"'),\n",
       " (151,\n",
       "  u'0.127*\"irdl\" + 0.102*\"lolo\" + -0.100*\"micah\" + -0.098*\"pid\" + -0.097*\"fredrick\" + -0.090*\"mick\" + 0.084*\"elain\" + -0.083*\"daria\" + 0.082*\"medici\" + 0.082*\"kev\"'),\n",
       " (152,\n",
       "  u'0.124*\"clarissa\" + -0.097*\"eztli\" + 0.090*\"jessica\" + 0.082*\"ali\" + -0.079*\"zinhl\" + 0.078*\"|\" + -0.078*\"marna\" + -0.078*\"tagrod\" + 0.077*\"kathleen\" + -0.076*\"eileen\"'),\n",
       " (153,\n",
       "  u'0.136*\"cyru\" + -0.131*\"pixi\" + 0.105*\"nerissa\" + 0.103*\"greta\" + -0.102*\"ana\" + -0.096*\"|\" + 0.093*\"heuvelt\" + 0.089*\"jamal\" + 0.082*\"denali\" + 0.081*\"ex-702\"'),\n",
       " (154,\n",
       "  u'0.121*\"jensen\" + -0.102*\"bosch\" + -0.102*\"kirtley\" + 0.101*\"paprika\" + 0.098*\"pell\" + -0.089*\"kurt\" + -0.082*\"|\" + 0.079*\"trixi\" + -0.079*\"aisha\" + 0.077*\"gorlack\"'),\n",
       " (155,\n",
       "  u'-0.126*\"oracl\" + 0.113*\"otto\" + -0.104*\"trixi\" + -0.104*\"bluebel\" + 0.102*\"kaj\" + 0.094*\"grete\" + 0.088*\"ex-702\" + -0.087*\"titan\" + -0.086*\"jian\" + -0.082*\"pell\"'),\n",
       " (156,\n",
       "  u'-0.127*\"nanle\" + 0.115*\"greta\" + 0.100*\"jamal\" + -0.096*\"rava\" + -0.092*\"fredrick\" + -0.088*\"galtha\" + -0.086*\"cordelia\" + -0.086*\"sivvi\" + -0.081*\"linda\" + -0.080*\"sebastian\"'),\n",
       " (157,\n",
       "  u'-0.112*\"rava\" + -0.101*\"cordelia\" + -0.094*\"yvonn\" + -0.093*\"annda\" + 0.089*\"lolo\" + 0.089*\"maria\" + -0.089*\"jian\" + 0.088*\"mimi\" + 0.086*\"eileen\" + 0.075*\"kara\"'),\n",
       " (158,\n",
       "  u'0.146*\"|\" + -0.123*\"eztli\" + -0.114*\"nozizw\" + -0.107*\"almahdi\" + 0.094*\"gia\" + 0.090*\"trixi\" + 0.086*\"geo\" + 0.086*\"clarissa\" + -0.085*\"princ\" + 0.085*\"sheryl\"'),\n",
       " (159,\n",
       "  u'-0.177*\"ali\" + 0.120*\"warlord\" + -0.116*\"sheryl\" + -0.116*\"eztli\" + -0.103*\"delroy\" + -0.099*\"thad\" + -0.095*\"linnea\" + 0.081*\"marla\" + -0.078*\"treya\" + -0.070*\"mimi\"'),\n",
       " (160,\n",
       "  u'-0.130*\"kaj\" + 0.123*\"pid\" + 0.121*\"maxon\" + -0.121*\"grete\" + 0.111*\"galtha\" + 0.107*\"eileen\" + 0.101*\"kev\" + -0.082*\"parda\" + -0.080*\"marna\" + 0.079*\"herk\"'),\n",
       " (161,\n",
       "  u'0.155*\"quy\" + -0.132*\"amira\" + 0.127*\"mimi\" + -0.105*\"|\" + 0.102*\"cyru\" + 0.096*\"galtha\" + 0.096*\"kev\" + -0.093*\"ali\" + 0.093*\"tam\" + 0.091*\"yakova\"'),\n",
       " (162,\n",
       "  u'-0.091*\"elain\" + 0.089*\"yvonn\" + 0.086*\"thad\" + 0.086*\"littleston\" + -0.086*\"yakova\" + 0.084*\"carmela\" + 0.082*\"pid\" + 0.081*\"elia\" + -0.080*\"jerbot\" + 0.079*\"kev\"'),\n",
       " (163,\n",
       "  u'-0.154*\"|\" + 0.117*\"barrett\" + 0.106*\"micah\" + -0.105*\"ume\" + -0.103*\"geo\" + -0.095*\"godmoth\" + 0.087*\"daria\" + 0.087*\"hahn\" + 0.086*\"warlord\" + 0.083*\"bluebel\"'),\n",
       " (164,\n",
       "  u'-0.139*\"cyru\" + 0.132*\"paprika\" + -0.127*\"pixi\" + 0.125*\"jensen\" + -0.109*\"kurt\" + -0.101*\"bosch\" + -0.096*\"ana\" + -0.096*\"tyler\" + -0.092*\"carmela\" + 0.090*\"bokeerk\"'),\n",
       " (165,\n",
       "  u'-0.142*\"cratchit\" + -0.105*\"mick\" + -0.105*\"marley\" + -0.103*\"geo\" + -0.100*\"princ\" + -0.096*\"bokeerk\" + -0.095*\"catat\" + 0.094*\"nanle\" + -0.093*\"cyru\" + 0.086*\"mimi\"'),\n",
       " (166,\n",
       "  u'0.174*\"carmela\" + -0.168*\"geo\" + 0.153*\"ex-702\" + -0.138*\"zinhl\" + 0.100*\"xnab\" + 0.097*\"eileen\" + -0.095*\"ali\" + 0.092*\"headi\" + 0.090*\"warlord\" + -0.089*\"amira\"'),\n",
       " (167,\n",
       "  u'-0.103*\"geo\" + 0.096*\"elia\" + 0.090*\"kev\" + 0.086*\"marla\" + 0.085*\"kurt\" + -0.082*\"trixi\" + -0.079*\"fredrick\" + 0.079*\"herk\" + 0.079*\"titan\" + 0.077*\"godmoth\"'),\n",
       " (168,\n",
       "  u'0.155*\"yakova\" + 0.128*\"eztli\" + 0.123*\"trixi\" + -0.117*\"rebecca\" + -0.112*\"kev\" + 0.106*\"elia\" + -0.097*\"jensen\" + -0.096*\"chrysanthemum\" + 0.094*\"mose\" + -0.090*\"abbi\"'),\n",
       " (169,\n",
       "  u'-0.113*\"ex-702\" + 0.101*\"cassi\" + 0.100*\"kev\" + 0.095*\"nanle\" + -0.094*\"ali\" + 0.093*\"sebastian\" + -0.091*\"rebecca\" + -0.088*\"suba\" + 0.087*\"oracl\" + 0.084*\"annda\"'),\n",
       " (170,\n",
       "  u'-0.165*\"fredrick\" + 0.130*\"leonardo\" + 0.114*\"jensen\" + 0.110*\"littleston\" + -0.108*\"carmela\" + 0.102*\"elia\" + -0.092*\"rob\" + -0.091*\"tagrod\" + -0.089*\"thad\" + -0.080*\"ashley\"'),\n",
       " (171,\n",
       "  u'-0.133*\"catat\" + -0.116*\"damo\" + 0.111*\"bluebel\" + -0.109*\"kev\" + -0.108*\"cyru\" + -0.102*\"sheryl\" + 0.096*\"clarissa\" + -0.092*\"totyoal\" + 0.089*\"becca\" + -0.087*\"njeri\"'),\n",
       " (172,\n",
       "  u'0.134*\"barrett\" + 0.105*\"hahn\" + -0.100*\"eztli\" + -0.099*\"clarissa\" + 0.098*\"emlun\" + -0.097*\"catat\" + -0.096*\"paulo\" + -0.095*\"lolo\" + 0.089*\"jeff\" + 0.088*\"bokeerk\"'),\n",
       " (173,\n",
       "  u'0.123*\"linnea\" + -0.118*\"kaj\" + 0.114*\"littleston\" + -0.109*\"elain\" + -0.109*\"grete\" + 0.108*\"eileen\" + 0.107*\"micah\" + -0.107*\"geo\" + 0.106*\"parda\" + -0.105*\"riley\"'),\n",
       " (174,\n",
       "  u'0.135*\"yakova\" + 0.119*\"njeri\" + 0.114*\"trixi\" + -0.108*\"rebecca\" + -0.104*\"sergio\" + -0.099*\"apurna\" + 0.090*\"rava\" + 0.090*\"geo\" + 0.081*\"cordelia\" + 0.079*\"amira\"'),\n",
       " (175,\n",
       "  u'0.130*\"linnea\" + -0.128*\"emlun\" + 0.116*\"eztli\" + 0.103*\"budo\" + -0.095*\"lolo\" + 0.094*\"feon\" + -0.094*\"cratchit\" + 0.092*\"njeri\" + -0.089*\"tyler\" + 0.087*\"greta\"'),\n",
       " (176,\n",
       "  u'-0.136*\"bosch\" + -0.123*\"geo\" + 0.116*\"yakova\" + -0.116*\"elain\" + -0.109*\"kathleen\" + -0.107*\"nozizw\" + -0.107*\"annda\" + -0.101*\"almahdi\" + 0.098*\"krenn\" + 0.097*\"tyler\"'),\n",
       " (177,\n",
       "  u'-0.194*\"carmela\" + -0.138*\"paulo\" + 0.125*\"eztli\" + -0.117*\"rebecca\" + -0.113*\"delroy\" + -0.110*\"jami\" + 0.107*\"mimi\" + 0.096*\"micah\" + -0.084*\"jerbot\" + 0.079*\"daria\"'),\n",
       " (178,\n",
       "  u'-0.143*\"geo\" + -0.143*\"pid\" + -0.123*\"zinhl\" + 0.122*\"pixi\" + 0.114*\"treya\" + -0.101*\"sra\" + -0.098*\"feon\" + -0.095*\"ex-702\" + 0.093*\"ana\" + -0.089*\"ger\"'),\n",
       " (179,\n",
       "  u'-0.121*\"parda\" + 0.119*\"feon\" + 0.103*\"luscinia\" + 0.102*\"priya\" + 0.098*\"damo\" + 0.095*\"glob\" + 0.092*\"emlun\" + 0.092*\"leonardo\" + -0.090*\"bosch\" + 0.081*\"trixi\"'),\n",
       " (180,\n",
       "  u'-0.149*\"geo\" + -0.132*\"paulo\" + -0.112*\"eztli\" + 0.107*\"trixi\" + -0.103*\"kev\" + 0.098*\"totyoal\" + 0.096*\"suba\" + 0.092*\"galtha\" + -0.087*\"eduardo\" + 0.086*\"rob\"'),\n",
       " (181,\n",
       "  u'-0.105*\"jerbot\" + -0.094*\"micah\" + 0.094*\"xnab\" + 0.091*\"cassi\" + 0.090*\"totyoal\" + 0.082*\"kurt\" + -0.082*\"|\" + 0.081*\"greta\" + 0.079*\"abbi\" + -0.078*\"daria\"'),\n",
       " (182,\n",
       "  u'-0.110*\"njeri\" + -0.107*\"micah\" + -0.105*\"ume\" + 0.105*\"nerissa\" + 0.103*\"sra\" + -0.094*\"thad\" + 0.094*\"jensen\" + -0.088*\"daria\" + -0.084*\"mariska\" + 0.082*\"catat\"'),\n",
       " (183,\n",
       "  u'-0.147*\"carmela\" + -0.144*\"njeri\" + 0.112*\"elia\" + 0.101*\"augi\" + 0.099*\"annda\" + -0.097*\"jensen\" + -0.096*\"mick\" + -0.091*\"maxon\" + 0.088*\"emlun\" + 0.081*\"ali\"'),\n",
       " (184,\n",
       "  u'0.113*\"carmela\" + 0.106*\"cyru\" + -0.105*\"kaj\" + -0.103*\"mick\" + -0.102*\"geo\" + -0.101*\"ali\" + 0.100*\"paulo\" + -0.097*\"rava\" + -0.097*\"grete\" + 0.093*\"|\"'),\n",
       " (185,\n",
       "  u'0.125*\"parda\" + -0.120*\"jerbot\" + 0.115*\"nozizw\" + -0.111*\"yakova\" + 0.108*\"almahdi\" + -0.106*\"littleston\" + 0.089*\"nathaniel\" + -0.089*\"eztli\" + 0.089*\"jeff\" + 0.084*\"trixi\"'),\n",
       " (186,\n",
       "  u'0.172*\"catat\" + 0.147*\"|\" + 0.139*\"sebastian\" + -0.128*\"galtha\" + -0.108*\"elia\" + 0.091*\"totyoal\" + -0.090*\"urjik\" + -0.086*\"eva\" + 0.081*\"geo\" + -0.080*\"clarissa\"'),\n",
       " (187,\n",
       "  u'0.180*\"ali\" + -0.144*\"cassi\" + -0.118*\"rebecca\" + 0.102*\"yvonn\" + -0.101*\"carmela\" + -0.091*\"friesner\" + -0.085*\"louca\" + 0.083*\"lolo\" + 0.082*\"kev\" + -0.078*\"fortuni\"'),\n",
       " (188,\n",
       "  u'-0.128*\"carmela\" + 0.107*\"|\" + -0.104*\"catat\" + -0.101*\"delroy\" + -0.101*\"augi\" + 0.099*\"etan\" + 0.096*\"employ\" + 0.095*\"budo\" + 0.092*\"ali\" + 0.092*\"cassi\"'),\n",
       " (189,\n",
       "  u'-0.156*\"ali\" + 0.153*\"totyoal\" + 0.122*\"clarissa\" + 0.091*\"dyl\" + 0.087*\"cuauhtemoc\" + 0.086*\"bosch\" + -0.084*\"kev\" + 0.083*\"eduardo\" + -0.075*\"treya\" + -0.075*\"marla\"'),\n",
       " (190,\n",
       "  u'-0.156*\"totyoal\" + -0.119*\"paulo\" + -0.117*\"geo\" + -0.108*\"linnea\" + 0.098*\"|\" + 0.096*\"micah\" + -0.096*\"krenn\" + 0.092*\"eztli\" + 0.091*\"sra\" + -0.089*\"cuauhtemoc\"'),\n",
       " (191,\n",
       "  u'-0.179*\"geo\" + -0.117*\"carmela\" + -0.110*\"clarissa\" + 0.096*\"totyoal\" + 0.093*\"annda\" + 0.086*\"sergio\" + 0.084*\"ali\" + -0.083*\"carter\" + -0.082*\"njeri\" + -0.081*\"catat\"'),\n",
       " (192,\n",
       "  u'-0.124*\"kurt\" + 0.114*\"ex-702\" + -0.108*\"elia\" + -0.108*\"warlord\" + -0.105*\"sebastian\" + 0.104*\"linnea\" + 0.098*\"sra\" + 0.097*\"pixi\" + 0.091*\"maxon\" + 0.088*\"catat\"'),\n",
       " (193,\n",
       "  u'-0.143*\"linnea\" + 0.135*\"zinhl\" + -0.120*\"cassi\" + 0.096*\"eduardo\" + -0.092*\"maria\" + 0.092*\"apurna\" + 0.083*\"feon\" + 0.080*\"pixi\" + -0.077*\"friesner\" + 0.077*\"nohail\"'),\n",
       " (194,\n",
       "  u'-0.108*\"thad\" + 0.096*\"geo\" + 0.094*\"fredrick\" + 0.089*\"mick\" + -0.089*\"totyoal\" + 0.086*\"sergio\" + 0.085*\"beta\" + -0.083*\"elia\" + 0.082*\"maria\" + 0.081*\"ume\"'),\n",
       " (195,\n",
       "  u'0.180*\"|\" + 0.142*\"irdl\" + 0.139*\"linnea\" + 0.120*\"geo\" + 0.116*\"gia\" + 0.113*\"fredrick\" + 0.104*\"tagrod\" + 0.096*\"kurt\" + 0.090*\"cyru\" + 0.085*\"catat\"'),\n",
       " (196,\n",
       "  u'0.124*\"kathleen\" + 0.122*\"rava\" + -0.116*\"gia\" + 0.109*\"cordelia\" + 0.102*\"totyoal\" + -0.099*\"ali\" + -0.096*\"pell\" + 0.095*\"bria\" + -0.093*\"linnea\" + -0.092*\"parasit\"'),\n",
       " (197,\n",
       "  u'0.129*\"greta\" + -0.118*\"paulo\" + 0.112*\"jamal\" + 0.110*\"kaj\" + 0.108*\"trixi\" + 0.101*\"grete\" + -0.099*\"pid\" + -0.096*\"valk\" + -0.096*\"calla\" + 0.095*\"wilfr\"'),\n",
       " (198,\n",
       "  u'-0.148*\"twice-cook\" + -0.131*\"pork\" + 0.131*\"sergio\" + -0.126*\"rebecca\" + -0.113*\"ume\" + 0.111*\"feon\" + 0.107*\"greta\" + 0.101*\"damo\" + 0.097*\"luscinia\" + 0.093*\"jamal\"'),\n",
       " (199,\n",
       "  u'0.139*\"kev\" + -0.138*\"paulo\" + 0.115*\"lolo\" + 0.108*\"cassi\" + 0.098*\"chrysanthemum\" + -0.097*\"nozizw\" + 0.093*\"groucho\" + -0.092*\"almahdi\" + 0.089*\"eztli\" + -0.089*\"sebastian\"')]"
      ]
     },
     "execution_count": 28,
     "metadata": {},
     "output_type": "execute_result"
    }
   ],
   "source": [
    "lsi.print_topics(200)"
   ]
  },
  {
   "cell_type": "code",
   "execution_count": null,
   "metadata": {},
   "outputs": [],
   "source": [
    "#for doc in corpus_lsi:\n",
    "#    print(doc)"
   ]
  },
  {
   "cell_type": "code",
   "execution_count": 44,
   "metadata": {},
   "outputs": [
    {
     "name": "stdout",
     "output_type": "stream",
     "text": [
      "568 200\n",
      "568 6\n"
     ]
    }
   ],
   "source": [
    "print len(corpus_lsi), len(corpus_lsi[3])\n",
    "print len(texts), len(text[0])"
   ]
  },
  {
   "cell_type": "markdown",
   "metadata": {},
   "source": [
    "## Try model with 200 topics"
   ]
  },
  {
   "cell_type": "code",
   "execution_count": null,
   "metadata": {
    "collapsed": true
   },
   "outputs": [],
   "source": [
    "tfidf200 = models.TfidfModel(corpus)"
   ]
  },
  {
   "cell_type": "code",
   "execution_count": null,
   "metadata": {
    "collapsed": true
   },
   "outputs": [],
   "source": [
    "corpus_tfidf200 = tfidf[corpus]"
   ]
  },
  {
   "cell_type": "code",
   "execution_count": null,
   "metadata": {},
   "outputs": [],
   "source": [
    "# Try with a few more topics\n",
    "lsi200 = models.LsiModel(corpus_tfidf200, id2word=dictionary, num_topics=200)\n",
    "corpus_lsi200 = lsi200[corpus_tfidf200]\n",
    "lsi200.print_topics(200)"
   ]
  },
  {
   "cell_type": "code",
   "execution_count": null,
   "metadata": {},
   "outputs": [],
   "source": [
    "print query_test_string\n",
    "print query_test_vec"
   ]
  },
  {
   "cell_type": "code",
   "execution_count": 45,
   "metadata": {},
   "outputs": [
    {
     "name": "stdout",
     "output_type": "stream",
     "text": [
      "[(0, 0.021500753173750622), (1, 0.010170332654706378), (2, -0.0045879142846854343), (3, -0.0063599128990928806), (4, -0.0013375250770105056), (5, 0.010991415205187295), (6, -0.00068851596542875235), (7, -0.00076143882129055046), (8, -0.015375986319245905), (9, 0.023504182530276193), (10, 0.001683171738271697), (11, -0.025871845498710935), (12, -0.0077974408735859719), (13, 0.01595223180966027), (14, 0.010979563651513457), (15, -0.01646284257510228), (16, -0.014883256047498223), (17, -0.0084350978136539852), (18, 0.015383122997255926), (19, -0.0046020048341928474), (20, -0.012608393458779291), (21, -0.011501227198603107), (22, 0.010017636456066601), (23, -0.014240164867741278), (24, -0.00373523888604486), (25, -0.018632108731557719), (26, 0.0037458102386531533), (27, 0.017728207273968039), (28, 0.045293730161006435), (29, 0.036226432073291993), (30, -0.0059538316835586998), (31, 0.029590388531517221), (32, -0.0059048481569915464), (33, -0.0007707551869241369), (34, -0.0023509918388885638), (35, 0.021039737476125392), (36, 0.036157220016097384), (37, 0.011879022712457783), (38, -0.018831784634165079), (39, 0.041061039624915578), (40, 0.035474396264774721), (41, 0.018824346550953608), (42, -0.0075279810424633995), (43, -0.020898765495924891), (44, -0.020344929756443815), (45, -0.0089564470937787896), (46, -0.021091001598290353), (47, -0.0038305142020386386), (48, -0.024047269776739249), (49, -0.0072649772463173889), (50, -0.0099431794690906482), (51, 0.002018655662163674), (52, 0.010770508879924347), (53, 0.025310842485293781), (54, 0.036267346925126148), (55, 0.015141957007844441), (56, -0.0036881405960915783), (57, 0.0033465486611492044), (58, -0.0020835224336171751), (59, -0.020681878103097302), (60, 0.027037162636295058), (61, 0.01089882683070147), (62, -0.029615116212597811), (63, -0.023841964260910568), (64, 0.0031960640133074886), (65, -0.019686143017963686), (66, 0.0038576905563653379), (67, 0.0041562773558853948), (68, -0.028159336057871871), (69, -0.044886468238910182), (70, 0.00041379466171494617), (71, 0.0039165576008448801), (72, -0.020247437786263665), (73, 0.0047292660859707758), (74, 0.01436091359914037), (75, 0.0061950269487740153), (76, 0.0066646772805509348), (77, 0.016735503572969098), (78, 0.0209539771840975), (79, -0.00072668471641434886), (80, -0.013572824183787392), (81, -0.03826390548044252), (82, 0.0090788163358873838), (83, 0.010248382178538799), (84, 0.004652446998560932), (85, 0.014185495934580943), (86, -0.015252902552902074), (87, -0.032360424136868023), (88, -0.0070908157503909996), (89, -0.0010110218894646564), (90, -0.0035947110635872435), (91, 0.025523920154127584), (92, 0.0087715142230734306), (93, 0.023790521593657209), (94, 0.0019281312469248109), (95, 0.0077181448173723778), (96, 0.010166122822778956), (97, 0.0070785815091887593), (98, -0.010843543271096252), (99, -0.0034759840518447504), (100, 0.0075744959836625703), (101, -0.010787767082201229), (102, -0.013075893528558712), (103, 0.021940553944535895), (104, -0.022817707207939103), (105, -0.019514097321641215), (106, -0.01603799706891202), (107, 0.030282331834528577), (108, -0.00088384424536531048), (109, -0.0065222592911849285), (110, 0.014485936456667452), (111, 0.015002787936763125), (112, -0.025793399152050877), (113, 0.0067451646757594255), (114, 0.021486518872580566), (115, -0.010493600861582929), (116, -0.033314909913877561), (117, 0.0043264603796639295), (118, -0.057042768611692697), (119, -0.023772443932086787), (120, 0.0031678713696467551), (121, 0.019072139696974039), (122, 0.0076974866859178597), (123, -0.034907117313331411), (124, -0.0042995128447220164), (125, -0.0097611978467743582), (126, -0.0048606544743542337), (127, -0.0054269635186070583), (128, 0.03046910403507094), (129, 0.013225761591398653), (130, 0.049287990295143178), (131, 0.0049022339769594402), (132, -0.019387831607774474), (133, -0.015414182622518291), (134, -0.031177468888826929), (135, 0.015326072062269443), (136, 0.010477706568683263), (137, -0.005459892513833527), (138, -0.027475099896623511), (139, 0.026928201972586503), (140, 0.046189649162610424), (141, -0.018157103497298651), (142, 0.00024855273986065319), (143, 0.012539346890293668), (144, -0.0054501358065695768), (145, 0.038904007229833455), (146, -0.0064363507652988698), (147, -0.027942389041216036), (148, -0.0037779535751529267), (149, 0.020927625546542743), (150, 0.0014188361205644453), (151, -0.016429817304636149), (152, 0.0068093241353021248), (153, 0.0027491937928038378), (154, 0.00079947143826968308), (155, -0.01500690751256524), (156, -0.0079827111411080714), (157, -0.0057192212000248595), (158, 0.01200604350100132), (159, 0.031884613144888031), (160, -0.015732711595716729), (161, 0.001648427722558818), (162, 0.026847669076602142), (163, -0.020590158546520767), (164, -0.019017201944988571), (165, 0.0040414937548653405), (166, -0.010903384011455113), (167, 0.0053984356732161374), (168, 0.019296284951503095), (169, 0.012938195356002616), (170, 0.015437667088828729), (171, -0.00101393163380252), (172, 0.024730393351118561), (173, 0.010371356982085711), (174, -0.048954490769175824), (175, -0.039796635953525845), (176, 0.035743908967792441), (177, 0.035437340785320889), (178, -0.030260559540808789), (179, -0.047899089002903586), (180, -0.014386662407921552), (181, -0.023963497802968275), (182, -0.00012664566538231163), (183, 0.021003111427115952), (184, 0.011008239528676122), (185, -0.0021417207825127054), (186, -0.030346076036748836), (187, 0.0051574106473039304), (188, -0.025006659736633588), (189, -0.0043224827190796802), (190, -0.0037530982803842196), (191, -0.0026300629876646487), (192, -0.0015871815814639378), (193, -0.032435025728902313), (194, -0.035834349971417295), (195, 0.0036298437625080938), (196, 0.010375080558356068), (197, 0.020156012702597946), (198, -0.017365131987045777), (199, -0.0080359125919651549)]\n"
     ]
    }
   ],
   "source": [
    "vec_lsi = lsi[query_test_vec]\n",
    "print vec_lsi"
   ]
  },
  {
   "cell_type": "code",
   "execution_count": 46,
   "metadata": {
    "collapsed": true
   },
   "outputs": [],
   "source": [
    "index = similarities.MatrixSimilarity(lsi[corpus])"
   ]
  },
  {
   "cell_type": "code",
   "execution_count": 47,
   "metadata": {
    "collapsed": true
   },
   "outputs": [],
   "source": [
    "sims = index[vec_lsi]"
   ]
  },
  {
   "cell_type": "code",
   "execution_count": 48,
   "metadata": {},
   "outputs": [
    {
     "name": "stdout",
     "output_type": "stream",
     "text": [
      "[(0, -0.0067984462), (1, -0.024845909), (2, 0.053296182), (3, 0.080950424), (4, -0.013948474), (5, 0.066635877), (6, 0.021996431), (7, 0.028438333), (8, 0.01590954), (9, 0.0071364269), (10, -0.0042326786), (11, 0.016105115), (12, -0.016603995), (13, -0.0091028977), (14, 0.055668984), (15, 0.076640144), (16, 0.045025811), (17, 0.0052920608), (18, 0.038167506), (19, 0.018378332), (20, 0.087506443), (21, 0.014888179), (22, 0.085138977), (23, -0.020623822), (24, 0.12040567), (25, 0.092135571), (26, -0.027788021), (27, 0.022054061), (28, -0.019481573), (29, -0.039755028), (30, 0.021183332), (31, -0.024706118), (32, 0.039226666), (33, -0.02761318), (34, 0.02780609), (35, 0.0004662089), (36, 0.08658509), (37, -0.030193843), (38, 0.02073279), (39, 0.0039314628), (40, -0.00630356), (41, 0.033845507), (42, 0.0082331896), (43, -0.012017682), (44, 0.014698643), (45, 0.010344453), (46, -0.017789125), (47, -0.039206959), (48, 0.055914823), (49, -0.018382754), (50, 0.027932923), (51, 0.01613703), (52, -0.042376384), (53, -0.006047491), (54, -0.0065127956), (55, 0.017577201), (56, 0.061746094), (57, 0.049473703), (58, 0.013766619), (59, 0.010536857), (60, 0.10417148), (61, 0.0021539815), (62, 0.053655967), (63, 0.019828999), (64, -0.00097999349), (65, 0.037287224), (66, 0.041290268), (67, -0.0076875985), (68, 0.0073809251), (69, 0.01165239), (70, -0.019579891), (71, 0.044112656), (72, 0.050225407), (73, -0.003689982), (74, 0.04722419), (75, 0.013803672), (76, 0.031479567), (77, 0.027012624), (78, 0.007324148), (79, 0.035840109), (80, 0.016029229), (81, 0.017185153), (82, 0.040939663), (83, 0.017809609), (84, 0.037302945), (85, -0.041127779), (86, -0.026051244), (87, 0.064092323), (88, -0.023267001), (89, -0.015686976), (90, 0.078597084), (91, -0.015239089), (92, 0.0069803465), (93, -0.0040384326), (94, 0.015404539), (95, 0.043337867), (96, 0.0016116365), (97, 0.0036687255), (98, -0.022693297), (99, 0.0047416911), (100, 0.034097351), (101, -0.021252148), (102, -0.045065649), (103, 0.015656939), (104, -0.00085490756), (105, 0.019073743), (106, -0.043674942), (107, -0.010489179), (108, 0.011630528), (109, 0.0008983016), (110, -0.0012875497), (111, -0.025765404), (112, -0.010426134), (113, 0.060855489), (114, -0.015265467), (115, 0.021399967), (116, -0.035297412), (117, 0.10920535), (118, 0.0085366964), (119, -0.0062819868), (120, 0.085335456), (121, 0.098292381), (122, -0.066178083), (123, -0.026320491), (124, 0.0092324931), (125, 0.014674567), (126, -0.031583898), (127, -0.012275126), (128, -0.008720981), (129, 0.005320657), (130, -0.0054237973), (131, 0.017485768), (132, 0.051287904), (133, -0.0033672079), (134, -0.019462623), (135, 0.010144826), (136, -0.014318087), (137, 0.0010585748), (138, -0.031830378), (139, -0.035484497), (140, 0.41064969), (141, -0.00098615047), (142, 0.050519638), (143, -0.014354765), (144, 0.07222873), (145, -0.0098351389), (146, -0.016277978), (147, -0.020416465), (148, 0.026226345), (149, -0.072947115), (150, -0.020496348), (151, -0.053196773), (152, 0.010882035), (153, -0.0055292025), (154, 0.0093470812), (155, 0.0037280843), (156, 0.076260716), (157, 0.063582078), (158, 0.030343782), (159, 0.059461895), (160, 0.0085891513), (161, -0.031828478), (162, 0.022611346), (163, 0.024456309), (164, -0.016847413), (165, 0.013404797), (166, -0.015306631), (167, -0.016075667), (168, 0.13625586), (169, 0.084942028), (170, 0.083435811), (171, -0.021548048), (172, 0.044396169), (173, 0.02901838), (174, -0.022334382), (175, 0.11143157), (176, -0.073802263), (177, 0.0040365877), (178, -0.022529395), (179, -0.038763911), (180, 0.034303136), (181, 0.047059931), (182, 0.13941944), (183, 0.10458756), (184, 0.041489705), (185, 0.04105296), (186, -0.00046619773), (187, -0.037525125), (188, 0.028369222), (189, 0.0073218644), (190, -0.019094862), (191, 0.025795937), (192, -0.050190695), (193, 0.0065792203), (194, 0.037967473), (195, 0.019739494), (196, -0.025610635), (197, -0.020261779), (198, -0.031876035), (199, 0.084205769), (200, 0.086488716), (201, 0.011701191), (202, -0.03019472), (203, 0.20315564), (204, 0.029331759), (205, 0.038871676), (206, 0.037927054), (207, -0.033240616), (208, 0.00096454099), (209, 0.041185502), (210, -0.0033991709), (211, 0.1475987), (212, 0.37128466), (213, 0.11430535), (214, 0.1314148), (215, 0.023085596), (216, 0.031794351), (217, -0.0056237467), (218, -0.0092036575), (219, -0.029468451), (220, 0.034750871), (221, 0.007763952), (222, -0.00915117), (223, 0.0022959691), (224, 0.035372049), (225, 0.011440147), (226, 0.082085706), (227, -0.013272351), (228, 0.0089594349), (229, -0.0093869604), (230, 0.090568587), (231, 0.00021265168), (232, 0.072856933), (233, 0.007946942), (234, -0.0023270175), (235, -0.014799468), (236, 0.073940106), (237, 0.042472471), (238, 0.031314954), (239, -0.019473825), (240, 0.19032383), (241, 0.013247684), (242, 0.011643643), (243, 0.063116737), (244, 0.0096011125), (245, 0.0014690608), (246, 0.016789235), (247, 0.063859969), (248, 0.026268944), (249, 0.034331907), (250, 0.028022073), (251, -0.025923532), (252, 0.0016185809), (253, 0.034672461), (254, 0.013531849), (255, 0.0092935152), (256, 0.08604452), (257, 0.052241452), (258, 0.034139447), (259, 0.02875171), (260, -0.0017586015), (261, 0.04094775), (262, 0.12433937), (263, 0.024472833), (264, -0.017271236), (265, 0.032179758), (266, -0.0078651384), (267, 0.056598824), (268, 0.0012456141), (269, 0.0071767904), (270, 0.0015380215), (271, -0.042815324), (272, 0.08105927), (273, 0.0014295075), (274, 0.012207825), (275, 0.033262573), (276, -0.06575647), (277, 0.034818012), (278, 0.029787), (279, 0.050481468), (280, 0.047392249), (281, 0.038061902), (282, 0.012955171), (283, 0.013891084), (284, 0.18840183), (285, -0.0016798275), (286, 0.031599093), (287, 0.021775629), (288, 0.037589259), (289, -0.02857057), (290, 0.015259953), (291, 0.013440382), (292, 0.031965554), (293, 0.046980467), (294, 0.0060566571), (295, 0.018210307), (296, 0.017902669), (297, -0.015665418), (298, 0.021249723), (299, 0.039855991), (300, 0.035857756), (301, 0.055974275), (302, 0.046185765), (303, 0.015860491), (304, 0.04961833), (305, -0.00081546977), (306, 0.025504332), (307, 0.023470586), (308, 0.0047642682), (309, 0.016327113), (310, 0.021237958), (311, 0.056927528), (312, 0.040306598), (313, -0.044266284), (314, -0.0055101328), (315, 0.039626382), (316, 0.097814918), (317, 0.013379665), (318, 0.03068609), (319, 0.062981918), (320, 0.017012253), (321, 0.066102087), (322, 0.10495338), (323, 0.067326948), (324, 0.091355547), (325, -0.0013565738), (326, -0.0030308804), (327, 0.041564547), (328, 0.017320883), (329, 0.055812545), (330, 0.027927363), (331, 0.058364395), (332, 0.076367997), (333, 0.018711749), (334, 0.0020966996), (335, 0.027017463), (336, 0.016449463), (337, 0.01452863), (338, 0.044738166), (339, 0.05296731), (340, 0.056461632), (341, -0.03185086), (342, -0.00046650693), (343, 0.048850551), (344, 0.0098601542), (345, 0.1132693), (346, 0.053639188), (347, 0.01772771), (348, 0.012097697), (349, 0.0055928645), (350, 0.055207059), (351, 0.020337449), (352, 0.04453171), (353, 0.0095050875), (354, 0.041086353), (355, 0.03710252), (356, 0.019448984), (357, 0.032410491), (358, 0.049208425), (359, 0.073260903), (360, 0.1188428), (361, 0.052210029), (362, 0.019727049), (363, -0.024386032), (364, 0.048349187), (365, 0.025112823), (366, 0.011162736), (367, 0.039132819), (368, 0.065068848), (369, 0.023466781), (370, 0.054863747), (371, 0.013382446), (372, 0.06164654), (373, 0.029584531), (374, 0.0074730534), (375, 0.019515688), (376, 0.015617786), (377, 0.079088278), (378, 0.059921429), (379, 0.075576313), (380, 0.21667886), (381, -0.0095981415), (382, 0.06858173), (383, 0.099200822), (384, 0.027477803), (385, 0.033503745), (386, 0.020051813), (387, 0.050189003), (388, 0.07004483), (389, 0.022545958), (390, 0.015699016), (391, 0.025436174), (392, 0.064087704), (393, 0.015254638), (394, 0.080294877), (395, 0.027189635), (396, 0.035446413), (397, 0.027877107), (398, 0.01885955), (399, 0.039000064), (400, 0.072186992), (401, 0.024548091), (402, 0.054184251), (403, 0.037052575), (404, -0.0054594725), (405, 0.060293209), (406, 0.075355701), (407, -0.0004180856), (408, 0.038390972), (409, -0.027985945), (410, 0.0093021449), (411, 0.0096875355), (412, 0.025823668), (413, 0.0084358901), (414, 0.010193566), (415, 0.051754277), (416, 0.057181887), (417, 0.0034862086), (418, 0.033986181), (419, 0.09266746), (420, 0.0087429369), (421, -0.011313416), (422, 0.023209494), (423, 0.058028858), (424, 0.06531401), (425, 0.083143778), (426, 0.025257891), (427, 0.055735603), (428, 0.0065496587), (429, 0.057705551), (430, 0.093206756), (431, 0.019149922), (432, 0.013761014), (433, 0.013587004), (434, 0.0017860755), (435, 0.020220108), (436, 0.038002521), (437, 0.070273802), (438, 0.091261826), (439, -0.0061165849), (440, 0.56599307), (441, -0.0054353517), (442, 0.030829839), (443, 0.032796204), (444, 0.007246423), (445, 0.051387727), (446, 0.031391505), (447, -0.019333951), (448, 0.069475628), (449, 0.024277639), (450, 0.0047180653), (451, -0.00030268729), (452, 0.048444539), (453, 0.024352428), (454, 0.006867284), (455, -0.0078253439), (456, 0.016383197), (457, 0.013758498), (458, 0.041337322), (459, 0.030823743), (460, 0.077883989), (461, 0.023948248), (462, 0.041458592), (463, -0.0076197358), (464, 0.042108171), (465, 0.042109657), (466, 0.041540127), (467, 0.045057327), (468, 0.020736201), (469, 0.020220108), (470, 0.036485482), (471, 0.11336531), (472, 0.0026379861), (473, 0.031297706), (474, 0.07836464), (475, 0.042315248), (476, 0.038700618), (477, 0.049908392), (478, 0.15112667), (479, 0.042860493), (480, 0.015491284), (481, 0.0099500194), (482, 0.0112026), (483, 0.033913415), (484, 0.06972681), (485, 0.0426712), (486, 0.06014508), (487, 0.038661655), (488, 0.079790339), (489, 0.034850352), (490, 0.026181445), (491, 0.025852811), (492, -0.010193873), (493, 0.039708704), (494, 0.031675592), (495, 0.043180607), (496, 0.019678155), (497, 0.037689053), (498, 0.027536754), (499, 0.074724801), (500, 0.003685873), (501, 0.037471056), (502, 0.04468739), (503, 0.041716203), (504, 0.075333118), (505, -0.0026962627), (506, 0.044707358), (507, 0.011932448), (508, 0.048120998), (509, 0.015597077), (510, 0.090308867), (511, 0.05266656), (512, 0.073504478), (513, 0.046238359), (514, 0.017122542), (515, 0.0356084), (516, 0.070150606), (517, 0.019244505), (518, 0.0084942728), (519, 0.02344124), (520, 0.034933921), (521, 0.11187454), (522, 0.050469704), (523, 0.034446042), (524, 0.069332108), (525, 0.097539626), (526, -0.013620622), (527, -0.012464065), (528, 0.048668604), (529, 0.055808395), (530, 0.020729698), (531, -0.0072144279), (532, 0.041096538), (533, 0.033924669), (534, 0.025613498), (535, 0.067468576), (536, 0.0075144414), (537, 0.051525258), (538, 0.030535394), (539, 0.012119677), (540, 0.0028156508), (541, -0.0042843036), (542, 0.0071544498), (543, 0.1509832), (544, 0.066871971), (545, 0.028843582), (546, 0.032151863), (547, -0.00062293373), (548, 0.014970818), (549, 0.039333735), (550, 0.030306932), (551, 0.025077764), (552, 0.062579758), (553, 0.029727239), (554, 0.0357779), (555, 0.064540006), (556, 0.0028814226), (557, 0.015595181), (558, 0.029824916), (559, 0.017735144), (560, 0.010001376), (561, 0.044031918), (562, 0.064510725), (563, 0.056443039), (564, 0.033315502), (565, 0.051322363), (566, 0.041425321), (567, 0.027351104)]\n"
     ]
    }
   ],
   "source": [
    "print list(enumerate(sims))"
   ]
  },
  {
   "cell_type": "code",
   "execution_count": 49,
   "metadata": {
    "collapsed": true
   },
   "outputs": [],
   "source": [
    "sims = sorted(enumerate(sims), key = lambda item: -item[1])"
   ]
  },
  {
   "cell_type": "code",
   "execution_count": 50,
   "metadata": {},
   "outputs": [
    {
     "name": "stdout",
     "output_type": "stream",
     "text": [
      "[(440, 0.56599307), (140, 0.41064969), (212, 0.37128466), (380, 0.21667886), (203, 0.20315564), (240, 0.19032383), (284, 0.18840183), (478, 0.15112667), (543, 0.1509832), (211, 0.1475987), (182, 0.13941944), (168, 0.13625586), (214, 0.1314148), (262, 0.12433937), (24, 0.12040567), (360, 0.1188428), (213, 0.11430535), (471, 0.11336531), (345, 0.1132693), (521, 0.11187454), (175, 0.11143157), (117, 0.10920535), (322, 0.10495338), (183, 0.10458756), (60, 0.10417148), (383, 0.099200822), (121, 0.098292381), (316, 0.097814918), (525, 0.097539626), (430, 0.093206756), (419, 0.09266746), (25, 0.092135571), (324, 0.091355547), (438, 0.091261826), (230, 0.090568587), (510, 0.090308867), (20, 0.087506443), (36, 0.08658509), (200, 0.086488716), (256, 0.08604452), (120, 0.085335456), (22, 0.085138977), (169, 0.084942028), (199, 0.084205769), (170, 0.083435811), (425, 0.083143778), (226, 0.082085706), (272, 0.08105927), (3, 0.080950424), (394, 0.080294877), (488, 0.079790339), (377, 0.079088278), (90, 0.078597084), (474, 0.07836464), (460, 0.077883989), (15, 0.076640144), (332, 0.076367997), (156, 0.076260716), (379, 0.075576313), (406, 0.075355701), (504, 0.075333118), (499, 0.074724801), (236, 0.073940106), (512, 0.073504478), (359, 0.073260903), (232, 0.072856933), (144, 0.07222873), (400, 0.072186992), (437, 0.070273802), (516, 0.070150606), (388, 0.07004483), (484, 0.06972681), (448, 0.069475628), (524, 0.069332108), (382, 0.06858173), (535, 0.067468576), (323, 0.067326948), (544, 0.066871971), (5, 0.066635877), (321, 0.066102087), (424, 0.06531401), (368, 0.065068848), (555, 0.064540006), (562, 0.064510725), (87, 0.064092323), (392, 0.064087704), (247, 0.063859969), (157, 0.063582078), (243, 0.063116737), (319, 0.062981918), (552, 0.062579758), (56, 0.061746094), (372, 0.06164654), (113, 0.060855489), (405, 0.060293209), (486, 0.06014508), (378, 0.059921429), (159, 0.059461895), (331, 0.058364395), (423, 0.058028858), (429, 0.057705551), (416, 0.057181887), (311, 0.056927528), (267, 0.056598824), (340, 0.056461632), (563, 0.056443039), (301, 0.055974275), (48, 0.055914823), (329, 0.055812545), (529, 0.055808395), (427, 0.055735603), (14, 0.055668984), (350, 0.055207059), (370, 0.054863747), (402, 0.054184251), (62, 0.053655967), (346, 0.053639188), (2, 0.053296182), (339, 0.05296731), (511, 0.05266656), (257, 0.052241452), (361, 0.052210029), (415, 0.051754277), (537, 0.051525258), (445, 0.051387727), (565, 0.051322363), (132, 0.051287904), (142, 0.050519638), (279, 0.050481468), (522, 0.050469704), (72, 0.050225407), (387, 0.050189003), (477, 0.049908392), (304, 0.04961833), (57, 0.049473703), (358, 0.049208425), (343, 0.048850551), (528, 0.048668604), (452, 0.048444539), (364, 0.048349187), (508, 0.048120998), (280, 0.047392249), (74, 0.04722419), (181, 0.047059931), (293, 0.046980467), (513, 0.046238359), (302, 0.046185765), (467, 0.045057327), (16, 0.045025811), (338, 0.044738166), (506, 0.044707358), (502, 0.04468739), (352, 0.04453171), (172, 0.044396169), (71, 0.044112656), (561, 0.044031918), (95, 0.043337867), (495, 0.043180607), (479, 0.042860493), (485, 0.0426712), (237, 0.042472471), (475, 0.042315248), (465, 0.042109657), (464, 0.042108171), (503, 0.041716203), (327, 0.041564547), (466, 0.041540127), (184, 0.041489705), (462, 0.041458592), (566, 0.041425321), (458, 0.041337322), (66, 0.041290268), (209, 0.041185502), (532, 0.041096538), (354, 0.041086353), (185, 0.04105296), (261, 0.04094775), (82, 0.040939663), (312, 0.040306598), (299, 0.039855991), (493, 0.039708704), (315, 0.039626382), (549, 0.039333735), (32, 0.039226666), (367, 0.039132819), (399, 0.039000064), (205, 0.038871676), (476, 0.038700618), (487, 0.038661655), (408, 0.038390972), (18, 0.038167506), (281, 0.038061902), (436, 0.038002521), (194, 0.037967473), (206, 0.037927054), (497, 0.037689053), (288, 0.037589259), (501, 0.037471056), (84, 0.037302945), (65, 0.037287224), (355, 0.03710252), (403, 0.037052575), (470, 0.036485482), (300, 0.035857756), (79, 0.035840109), (554, 0.0357779), (515, 0.0356084), (396, 0.035446413), (224, 0.035372049), (520, 0.034933921), (489, 0.034850352), (277, 0.034818012), (220, 0.034750871), (253, 0.034672461), (523, 0.034446042), (249, 0.034331907), (180, 0.034303136), (258, 0.034139447), (100, 0.034097351), (418, 0.033986181), (533, 0.033924669), (483, 0.033913415), (41, 0.033845507), (385, 0.033503745), (564, 0.033315502), (275, 0.033262573), (443, 0.032796204), (357, 0.032410491), (265, 0.032179758), (546, 0.032151863), (292, 0.031965554), (216, 0.031794351), (494, 0.031675592), (286, 0.031599093), (76, 0.031479567), (446, 0.031391505), (238, 0.031314954), (473, 0.031297706), (442, 0.030829839), (459, 0.030823743), (318, 0.03068609), (538, 0.030535394), (158, 0.030343782), (550, 0.030306932), (558, 0.029824916), (278, 0.029787), (553, 0.029727239), (373, 0.029584531), (204, 0.029331759), (173, 0.02901838), (545, 0.028843582), (259, 0.02875171), (7, 0.028438333), (188, 0.028369222), (250, 0.028022073), (50, 0.027932923), (330, 0.027927363), (397, 0.027877107), (34, 0.02780609), (498, 0.027536754), (384, 0.027477803), (567, 0.027351104), (395, 0.027189635), (335, 0.027017463), (77, 0.027012624), (248, 0.026268944), (148, 0.026226345), (490, 0.026181445), (491, 0.025852811), (412, 0.025823668), (191, 0.025795937), (534, 0.025613498), (306, 0.025504332), (391, 0.025436174), (426, 0.025257891), (365, 0.025112823), (551, 0.025077764), (401, 0.024548091), (263, 0.024472833), (163, 0.024456309), (453, 0.024352428), (449, 0.024277639), (461, 0.023948248), (307, 0.023470586), (369, 0.023466781), (519, 0.02344124), (422, 0.023209494), (215, 0.023085596), (162, 0.022611346), (389, 0.022545958), (27, 0.022054061), (6, 0.021996431), (287, 0.021775629), (115, 0.021399967), (298, 0.021249723), (310, 0.021237958), (30, 0.021183332), (468, 0.020736201), (38, 0.02073279), (530, 0.020729698), (351, 0.020337449), (435, 0.020220108), (469, 0.020220108), (386, 0.020051813), (63, 0.019828999), (195, 0.019739494), (362, 0.019727049), (496, 0.019678155), (375, 0.019515688), (356, 0.019448984), (517, 0.019244505), (431, 0.019149922), (105, 0.019073743), (398, 0.01885955), (333, 0.018711749), (19, 0.018378332), (295, 0.018210307), (296, 0.017902669), (83, 0.017809609), (559, 0.017735144), (347, 0.01772771), (55, 0.017577201), (131, 0.017485768), (328, 0.017320883), (81, 0.017185153), (514, 0.017122542), (320, 0.017012253), (246, 0.016789235), (336, 0.016449463), (456, 0.016383197), (309, 0.016327113), (51, 0.01613703), (11, 0.016105115), (80, 0.016029229), (8, 0.01590954), (303, 0.015860491), (390, 0.015699016), (103, 0.015656939), (376, 0.015617786), (509, 0.015597077), (557, 0.015595181), (480, 0.015491284), (94, 0.015404539), (290, 0.015259953), (393, 0.015254638), (548, 0.014970818), (21, 0.014888179), (44, 0.014698643), (125, 0.014674567), (337, 0.01452863), (283, 0.013891084), (75, 0.013803672), (58, 0.013766619), (432, 0.013761014), (457, 0.013758498), (433, 0.013587004), (254, 0.013531849), (291, 0.013440382), (165, 0.013404797), (371, 0.013382446), (317, 0.013379665), (241, 0.013247684), (282, 0.012955171), (274, 0.012207825), (539, 0.012119677), (348, 0.012097697), (507, 0.011932448), (201, 0.011701191), (69, 0.01165239), (242, 0.011643643), (108, 0.011630528), (225, 0.011440147), (482, 0.0112026), (366, 0.011162736), (152, 0.010882035), (59, 0.010536857), (45, 0.010344453), (414, 0.010193566), (135, 0.010144826), (560, 0.010001376), (481, 0.0099500194), (344, 0.0098601542), (411, 0.0096875355), (244, 0.0096011125), (353, 0.0095050875), (154, 0.0093470812), (410, 0.0093021449), (255, 0.0092935152), (124, 0.0092324931), (228, 0.0089594349), (420, 0.0087429369), (160, 0.0085891513), (118, 0.0085366964), (518, 0.0084942728), (413, 0.0084358901), (42, 0.0082331896), (233, 0.007946942), (221, 0.007763952), (536, 0.0075144414), (374, 0.0074730534), (68, 0.0073809251), (78, 0.007324148), (189, 0.0073218644), (444, 0.007246423), (269, 0.0071767904), (542, 0.0071544498), (9, 0.0071364269), (92, 0.0069803465), (454, 0.006867284), (193, 0.0065792203), (428, 0.0065496587), (294, 0.0060566571), (349, 0.0055928645), (129, 0.005320657), (17, 0.0052920608), (308, 0.0047642682), (99, 0.0047416911), (450, 0.0047180653), (177, 0.0040365877), (39, 0.0039314628), (155, 0.0037280843), (500, 0.003685873), (97, 0.0036687255), (417, 0.0034862086), (556, 0.0028814226), (540, 0.0028156508), (472, 0.0026379861), (223, 0.0022959691), (61, 0.0021539815), (334, 0.0020966996), (434, 0.0017860755), (252, 0.0016185809), (96, 0.0016116365), (270, 0.0015380215), (245, 0.0014690608), (273, 0.0014295075), (268, 0.0012456141), (137, 0.0010585748), (208, 0.00096454099), (109, 0.0008983016), (35, 0.0004662089), (231, 0.00021265168), (451, -0.00030268729), (407, -0.0004180856), (186, -0.00046619773), (342, -0.00046650693), (547, -0.00062293373), (305, -0.00081546977), (104, -0.00085490756), (64, -0.00097999349), (141, -0.00098615047), (110, -0.0012875497), (325, -0.0013565738), (285, -0.0016798275), (260, -0.0017586015), (234, -0.0023270175), (505, -0.0026962627), (326, -0.0030308804), (133, -0.0033672079), (210, -0.0033991709), (73, -0.003689982), (93, -0.0040384326), (10, -0.0042326786), (541, -0.0042843036), (130, -0.0054237973), (441, -0.0054353517), (404, -0.0054594725), (314, -0.0055101328), (153, -0.0055292025), (217, -0.0056237467), (53, -0.006047491), (439, -0.0061165849), (119, -0.0062819868), (40, -0.00630356), (54, -0.0065127956), (0, -0.0067984462), (531, -0.0072144279), (463, -0.0076197358), (67, -0.0076875985), (455, -0.0078253439), (266, -0.0078651384), (128, -0.008720981), (13, -0.0091028977), (222, -0.00915117), (218, -0.0092036575), (229, -0.0093869604), (381, -0.0095981415), (145, -0.0098351389), (492, -0.010193873), (112, -0.010426134), (107, -0.010489179), (421, -0.011313416), (43, -0.012017682), (127, -0.012275126), (527, -0.012464065), (227, -0.013272351), (526, -0.013620622), (4, -0.013948474), (136, -0.014318087), (143, -0.014354765), (235, -0.014799468), (91, -0.015239089), (114, -0.015265467), (166, -0.015306631), (297, -0.015665418), (89, -0.015686976), (167, -0.016075667), (146, -0.016277978), (12, -0.016603995), (164, -0.016847413), (264, -0.017271236), (46, -0.017789125), (49, -0.018382754), (190, -0.019094862), (447, -0.019333951), (134, -0.019462623), (239, -0.019473825), (28, -0.019481573), (70, -0.019579891), (197, -0.020261779), (147, -0.020416465), (150, -0.020496348), (23, -0.020623822), (101, -0.021252148), (171, -0.021548048), (174, -0.022334382), (178, -0.022529395), (98, -0.022693297), (88, -0.023267001), (363, -0.024386032), (31, -0.024706118), (1, -0.024845909), (196, -0.025610635), (111, -0.025765404), (251, -0.025923532), (86, -0.026051244), (123, -0.026320491), (33, -0.02761318), (26, -0.027788021), (409, -0.027985945), (289, -0.02857057), (219, -0.029468451), (37, -0.030193843), (202, -0.03019472), (126, -0.031583898), (161, -0.031828478), (138, -0.031830378), (341, -0.03185086), (198, -0.031876035), (207, -0.033240616), (116, -0.035297412), (139, -0.035484497), (187, -0.037525125), (179, -0.038763911), (47, -0.039206959), (29, -0.039755028), (85, -0.041127779), (52, -0.042376384), (271, -0.042815324), (106, -0.043674942), (313, -0.044266284), (102, -0.045065649), (192, -0.050190695), (151, -0.053196773), (276, -0.06575647), (122, -0.066178083), (149, -0.072947115), (176, -0.073802263)]\n"
     ]
    }
   ],
   "source": [
    "print sims"
   ]
  },
  {
   "cell_type": "code",
   "execution_count": null,
   "metadata": {
    "collapsed": true
   },
   "outputs": [],
   "source": [
    "print sims[(380)]"
   ]
  },
  {
   "cell_type": "code",
   "execution_count": 51,
   "metadata": {},
   "outputs": [
    {
     "data": {
      "text/plain": [
       "title                      EP458: If You Were a Dinosaur, My Love\n",
       "filed_tags        [13 and Up, 17 and Up, Podcasts, Uncategorized]\n",
       "num_comments                                           2 comments\n",
       "side_tags       [Alasdair Stuart, christina lebonville, dinosa...\n",
       "runtime                                                 [ 15:19 ]\n",
       "author                                                       None\n",
       "narrator                                                     None\n",
       "host                                                         None\n",
       "post_type                                                       0\n",
       "story_list      [by Rachel Swirsky\\nread by Christina Lebonvil...\n",
       "story_string    by Rachel Swirsky\\nread by Christina Lebonvill...\n",
       "tokens          [by, Rachel, Swirsky, read, by, Christina, Leb...\n",
       "punct_gone      [by, Rachel, Swirsky, read, by, Christina, Leb...\n",
       "word_counts                                                  1265\n",
       "stop_gone       [Rachel, Swirsky, read, Christina, Lebonville,...\n",
       "stem            [rachel, swirski, read, christina, lebonvil, a...\n",
       "top10           [[(’, 51), (would, 26), (love, 9), (dinosaur, ...\n",
       "Name: http://escapepod.org/2014/08/14/ep458-dinosaur-love/, dtype: object"
      ]
     },
     "execution_count": 51,
     "metadata": {},
     "output_type": "execute_result"
    }
   ],
   "source": [
    "escape_pod.iloc[440]"
   ]
  },
  {
   "cell_type": "code",
   "execution_count": null,
   "metadata": {},
   "outputs": [],
   "source": [
    "escape_pod.iloc[140]"
   ]
  },
  {
   "cell_type": "code",
   "execution_count": null,
   "metadata": {},
   "outputs": [],
   "source": [
    "escape_pod.iloc[240]"
   ]
  },
  {
   "cell_type": "code",
   "execution_count": null,
   "metadata": {},
   "outputs": [],
   "source": [
    "escape_pod.iloc[212]"
   ]
  },
  {
   "cell_type": "code",
   "execution_count": 52,
   "metadata": {},
   "outputs": [
    {
     "data": {
      "text/plain": [
       "title                                   EP397: A Gun for Dinosaur\n",
       "filed_tags                                  [10 and Up, Podcasts]\n",
       "num_comments                                            1 comment\n",
       "side_tags       [a gun for dinosaur, ayoub khote, dinosaur, fr...\n",
       "runtime                                               [ 1:14:38 ]\n",
       "author                                                       None\n",
       "narrator                                                     None\n",
       "host                                                         None\n",
       "post_type                                                       0\n",
       "story_list      [by L. Sprague de Camp, Read by Ayoub Khote, b...\n",
       "story_string    by L. Sprague de Camp Read by Ayoub Khote borr...\n",
       "tokens          [by, L., Sprague, de, Camp, Read, by, Ayoub, K...\n",
       "punct_gone      [by, L., Sprague, de, Camp, Read, by, Ayoub, K...\n",
       "word_counts                                                 11862\n",
       "stop_gone       [L., Sprague, de, Camp, Read, Ayoub, Khote, bo...\n",
       "stem            [L., spragu, de, camp, read, ayoub, khote, bor...\n",
       "top10           [[(’, 362), (“, 180), (”, 179), (said, 85), (j...\n",
       "Name: http://escapepod.org/2013/05/24/ep397-a-gun-for-dinosaur/, dtype: object"
      ]
     },
     "execution_count": 52,
     "metadata": {},
     "output_type": "execute_result"
    }
   ],
   "source": [
    "escape_pod.iloc[380]"
   ]
  },
  {
   "cell_type": "markdown",
   "metadata": {},
   "source": [
    "## Similiarity\n",
    "https://radimrehurek.com/gensim/tut3.html"
   ]
  },
  {
   "cell_type": "code",
   "execution_count": null,
   "metadata": {},
   "outputs": [],
   "source": [
    "# Try with just two topics first\n",
    "lsi = models.LsiModel(corpus_tfidf, id2word=dictionary, num_topics=2)\n",
    "corpus_lsi = lsi[corpus_tfidf]\n",
    "lsi.print_topics(2)\n",
    "\n",
    "# Find stories within corpus that are similar to \"doc\" query\n",
    "doc = \"dinosaur guns\"\n",
    "vec_bow = dictionary.doc2bow(doc.lower().split())\n",
    "vec_lsi = lsi[vec_bow] # convert the query to LSI space\n",
    "print(vec_lsi)"
   ]
  },
  {
   "cell_type": "code",
   "execution_count": null,
   "metadata": {
    "collapsed": true
   },
   "outputs": [],
   "source": [
    "# compare all stories with all stories in corpus?  Not sure why...\n",
    "index = similarities.MatrixSimilarity(lsi[corpus])"
   ]
  },
  {
   "cell_type": "code",
   "execution_count": null,
   "metadata": {
    "scrolled": true
   },
   "outputs": [],
   "source": [
    "sims = index[vec_lsi] # perform a similarity query against the corpus\n",
    "print(list(enumerate(sims))) # print (document_number, document_similarity) 2-tuples"
   ]
  },
  {
   "cell_type": "code",
   "execution_count": null,
   "metadata": {
    "scrolled": true
   },
   "outputs": [],
   "source": [
    "sims = sorted(enumerate(sims), key=lambda item: -item[1])\n",
    "print(sims) "
   ]
  },
  {
   "cell_type": "code",
   "execution_count": null,
   "metadata": {},
   "outputs": [],
   "source": [
    "print texts[243]"
   ]
  },
  {
   "cell_type": "code",
   "execution_count": null,
   "metadata": {},
   "outputs": [],
   "source": [
    "print texts[132]\n"
   ]
  },
  {
   "cell_type": "code",
   "execution_count": null,
   "metadata": {},
   "outputs": [],
   "source": [
    "print texts[397]"
   ]
  },
  {
   "cell_type": "code",
   "execution_count": null,
   "metadata": {},
   "outputs": [],
   "source": [
    "escape_pod[escape_pod['title'].str.contains('Dinosaur')]['title']"
   ]
  },
  {
   "cell_type": "code",
   "execution_count": null,
   "metadata": {
    "collapsed": true
   },
   "outputs": [],
   "source": []
  }
 ],
 "metadata": {
  "kernelspec": {
   "display_name": "Python 2",
   "language": "python",
   "name": "python2"
  },
  "language_info": {
   "codemirror_mode": {
    "name": "ipython",
    "version": 2
   },
   "file_extension": ".py",
   "mimetype": "text/x-python",
   "name": "python",
   "nbconvert_exporter": "python",
   "pygments_lexer": "ipython2",
   "version": "2.7.13"
  }
 },
 "nbformat": 4,
 "nbformat_minor": 2
}
